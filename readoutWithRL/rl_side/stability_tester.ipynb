{
 "cells": [
  {
   "cell_type": "markdown",
   "metadata": {},
   "source": [
    "## Stability Testing of Optimization\n",
    "In this notebook we cover how to test the stability of the optimal readout pulse waveforms generated with respect to system parameters such as the kappa and chi."
   ]
  },
  {
   "cell_type": "code",
   "execution_count": 1,
   "metadata": {},
   "outputs": [],
   "source": [
    "# Importing Packages\n",
    "\n",
    "import numpy as np\n",
    "import matplotlib.pyplot as plt\n",
    "import time\n",
    "\n",
    "from typing import Optional, Union\n",
    "\n",
    "import jax\n",
    "import jax.numpy as jnp\n",
    "from jax import jit, vmap, block_until_ready, config\n",
    "\n",
    "from algos.ppo import PPO_make_train"
   ]
  },
  {
   "cell_type": "code",
   "execution_count": 2,
   "metadata": {},
   "outputs": [],
   "source": [
    "# Seeding all Random Number Generation during the RL Training for Reproducibility\n",
    "\n",
    "seed = 30\n",
    "\n",
    "rng = jax.random.PRNGKey(seed)\n",
    "rng, _rng = jax.random.split(rng)"
   ]
  },
  {
   "cell_type": "code",
   "execution_count": 3,
   "metadata": {},
   "outputs": [
    {
     "name": "stdout",
     "output_type": "stream",
     "text": [
      "Rough Max Photons: 31\n",
      "Actual Max Photons: 30.573151382405857\n"
     ]
    }
   ],
   "source": [
    "# Defining Cairo Params and RL Params\n",
    "\n",
    "tau_0 = 0.398\n",
    "kappa = 25.0\n",
    "chi = 0.65\n",
    "kerr = 0.002\n",
    "gamma = 1/100\n",
    "time_coeff = 10.0\n",
    "snr_coeff = 10.0\n",
    "rough_max_photons = 31\n",
    "rough_max_amp_scaled = 1/0.43\n",
    "actual_max_photons = rough_max_photons * (1 - jnp.exp(-0.5 * kappa * tau_0))**2\n",
    "print(f\"Rough Max Photons: {rough_max_photons}\")\n",
    "print(f\"Actual Max Photons: {actual_max_photons}\")\n",
    "ideal_photon = 1e-2\n",
    "scaling_factor = 7.5\n",
    "gamma_I = 1/500\n",
    "num_t1 = 8.0\n",
    "photon_gamma = 1/2000\n",
    "init_fid = 1 - 1e-3\n",
    "\n",
    "batchsize = 64\n",
    "num_envs = 8\n",
    "num_updates = 1000\n",
    "config = {\n",
    "    \"LR\": 3e-3,\n",
    "    \"NUM_ENVS\": num_envs,\n",
    "    \"NUM_STEPS\": batchsize,\n",
    "    \"NUM_UPDATES\": num_updates,\n",
    "    \"UPDATE_EPOCHS\": 4,\n",
    "    \"NUM_MINIBATCHES\": int(batchsize * num_envs / 64),\n",
    "    \"CLIP_EPS\": 0.2,\n",
    "    \"VALUE_CLIP_EPS\": 0.2,\n",
    "    \"ENT_COEF\": 0.0,\n",
    "    \"VF_COEF\": 0.5,\n",
    "    \"MAX_GRAD_NORM\": 0.5,\n",
    "    \"ACTIVATION\": \"relu6\",\n",
    "    \"LAYER_SIZE\": 256,\n",
    "    \"ENV_NAME\": \"photon_langevin_readout_env\",\n",
    "    \"ANNEAL_LR\": False,\n",
    "    \"DEBUG\": False,\n",
    "    \"DEBUG_ACTION\": False,\n",
    "    \"PRINT_RATE\": 100,\n",
    "    \"ACTION_PRINT_RATE\": 100,\n",
    "}"
   ]
  },
  {
   "cell_type": "code",
   "execution_count": 4,
   "metadata": {},
   "outputs": [],
   "source": [
    "num_exp = 3\n",
    "batch_rng = jax.random.split(_rng, num_exp)\n",
    "rng, _rng = jax.random.split(rng)\n",
    "\n",
    "ones_arr = np.ones(num_exp)\n",
    "\n",
    "kappa_vals = np.array([kappa * (1 - 0.1), kappa, kappa * (1 + 0.1)])\n",
    "chi_vals = chi * ones_arr\n",
    "kerr_vals = kerr * ones_arr\n",
    "gamma_vals = gamma * ones_arr\n",
    "time_coef_vals = time_coeff * ones_arr\n",
    "snr_coef_vals = snr_coeff * ones_arr\n",
    "rough_max_photons_vals = rough_max_photons * ones_arr\n",
    "actual_max_photons_vals = actual_max_photons * ones_arr\n",
    "rough_max_amp_scaled_vals = rough_max_amp_scaled * ones_arr\n",
    "ideal_photon_vals = ideal_photon * ones_arr\n",
    "scaling_factor_vals = scaling_factor * ones_arr\n",
    "gamma_I_vals = gamma_I * ones_arr\n",
    "num_t1_vals = num_t1 * ones_arr\n",
    "photon_gamma_vals = photon_gamma * ones_arr\n",
    "init_fid_vals = init_fid * ones_arr"
   ]
  },
  {
   "cell_type": "code",
   "execution_count": 5,
   "metadata": {},
   "outputs": [
    {
     "name": "stdout",
     "output_type": "stream",
     "text": [
      "Starting a Run of 1000 Updates\n"
     ]
    }
   ],
   "source": [
    "vmap_index_list = np.zeros(16, dtype=np.int8).tolist() + [None] * 2\n",
    "\n",
    "multi_kappa_train = jit(\n",
    "    vmap(PPO_make_train(config), in_axes=vmap_index_list), \n",
    "    static_argnums=(-2, -1)\n",
    ")\n",
    "\n",
    "print(f\"Starting a Run of {num_updates} Updates\")\n",
    "start = time.time()\n",
    "multi_kappa_result = multi_kappa_train(\n",
    "    batch_rng, \n",
    "    kappa_vals, \n",
    "    chi_vals, \n",
    "    kerr_vals,\n",
    "    gamma_vals,\n",
    "    time_coef_vals,\n",
    "    snr_coef_vals,\n",
    "    rough_max_photons_vals,\n",
    "    actual_max_photons_vals,\n",
    "    rough_max_amp_scaled_vals,\n",
    "    ideal_photon_vals,\n",
    "    scaling_factor_vals,\n",
    "    gamma_I_vals,\n",
    "    num_t1_vals,\n",
    "    photon_gamma_vals,\n",
    "    init_fid_vals,\n",
    "    batchsize, \n",
    "    num_envs)\n",
    "print(f\"time taken: {time.time() - start}\")"
   ]
  },
  {
   "cell_type": "code",
   "execution_count": 30,
   "metadata": {},
   "outputs": [],
   "source": [
    "# Extracting Results\n",
    "\n",
    "metrics = multi_kappa_result[\"metrics\"]\n",
    "\n",
    "max_actions = metrics[\"action of max\"]\n",
    "max_rewards = metrics[\"max reward obtained\"]\n",
    "max_photons = metrics[\"photon at max\"]\n",
    "max_pFs = metrics[\"pF at max\"]\n",
    "max_times = metrics[\"photon time of max\"]\n",
    "mean_rewards = metrics[\"mean batch reward\"]\n",
    "mean_pFs = metrics[\"mean batch pF\"]\n",
    "mean_photons = metrics[\"mean batch photon\"]\n",
    "mean_photon_times = metrics[\"mean batch photon time\"]"
   ]
  },
  {
   "cell_type": "code",
   "execution_count": 34,
   "metadata": {},
   "outputs": [
    {
     "data": {
      "image/png": "[encoded data removed]",
      "text/plain": [
       "<Figure size 640x480 with 1 Axes>"
      ]
     },
     "metadata": {},
     "output_type": "display_data"
    }
   ],
   "source": [
    "plt.plot(max_rewards[0,:,-1], label='less')\n",
    "plt.plot(max_rewards[1,:,-1], label='equal')\n",
    "plt.plot(max_rewards[2,:,-1], label='more')\n",
    "plt.legend()\n",
    "plt.show()"
   ]
  },
  {
   "cell_type": "code",
   "execution_count": 1,
   "metadata": {},
   "outputs": [
    {
     "ename": "NameError",
     "evalue": "name 'jnp' is not defined",
     "output_type": "error",
     "traceback": [
      "\u001b[0;31m---------------------------------------------------------------------------\u001b[0m",
      "\u001b[0;31mNameError\u001b[0m                                 Traceback (most recent call last)",
      "Cell \u001b[0;32mIn[1], line 4\u001b[0m\n\u001b[1;32m      1\u001b[0m \u001b[38;5;28;01mfrom\u001b[39;00m \u001b[38;5;21;01mjax\u001b[39;00m\u001b[38;5;21;01m.\u001b[39;00m\u001b[38;5;21;01mnumpy\u001b[39;00m \u001b[38;5;28;01mimport\u001b[39;00m diff\n\u001b[1;32m      2\u001b[0m \u001b[38;5;28;01mfrom\u001b[39;00m \u001b[38;5;21;01mjax\u001b[39;00m\u001b[38;5;21;01m.\u001b[39;00m\u001b[38;5;21;01mscipy\u001b[39;00m\u001b[38;5;21;01m.\u001b[39;00m\u001b[38;5;21;01mintegrate\u001b[39;00m \u001b[38;5;28;01mimport\u001b[39;00m trapezoid\n\u001b[0;32m----> 4\u001b[0m ts \u001b[38;5;241m=\u001b[39m \u001b[43mjnp\u001b[49m\u001b[38;5;241m.\u001b[39mlinspace(\u001b[38;5;241m0.\u001b[39m, \u001b[38;5;241m1\u001b[39m\u001b[38;5;241m/\u001b[39mkappa \u001b[38;5;241m*\u001b[39m num_t1, \u001b[38;5;241m121\u001b[39m)\n\u001b[1;32m      6\u001b[0m \u001b[38;5;28;01mdef\u001b[39;00m \u001b[38;5;21mt1_duration\u001b[39m(kappa, res_scale_factor, tau_0):\n\u001b[1;32m      7\u001b[0m     \u001b[38;5;28;01mreturn\u001b[39;00m (\n\u001b[1;32m      8\u001b[0m         \u001b[38;5;241m-\u001b[39m\u001b[38;5;241m2\u001b[39m\n\u001b[1;32m      9\u001b[0m         \u001b[38;5;241m/\u001b[39m kappa\n\u001b[1;32m     10\u001b[0m         \u001b[38;5;241m*\u001b[39m jnp\u001b[38;5;241m.\u001b[39mlog(\u001b[38;5;241m1\u001b[39m \u001b[38;5;241m-\u001b[39m \u001b[38;5;241m1\u001b[39m \u001b[38;5;241m/\u001b[39m res_scale_factor \u001b[38;5;241m*\u001b[39m (\u001b[38;5;241m1.0\u001b[39m \u001b[38;5;241m-\u001b[39m jnp\u001b[38;5;241m.\u001b[39mexp(\u001b[38;5;241m-\u001b[39m\u001b[38;5;241m0.5\u001b[39m \u001b[38;5;241m*\u001b[39m kappa \u001b[38;5;241m*\u001b[39m tau_0)))\n\u001b[1;32m     11\u001b[0m     )\n",
      "\u001b[0;31mNameError\u001b[0m: name 'jnp' is not defined"
     ]
    }
   ],
   "source": [
    "from jax.numpy import diff\n",
    "from jax.scipy.integrate import trapezoid\n",
    "\n",
    "ts = jnp.linspace(0., 1/kappa * num_t1, 121)\n",
    "\n",
    "def t1_duration(kappa, res_scale_factor, tau_0):\n",
    "    return (\n",
    "        -2\n",
    "        / kappa\n",
    "        * jnp.log(1 - 1 / res_scale_factor * (1.0 - jnp.exp(-0.5 * kappa * tau_0)))\n",
    "    )\n",
    "\n",
    "\n",
    "def t3_duration(kappa, res_scale_factor):\n",
    "    return -2 / kappa * jnp.log(res_scale_factor / (1.0 + res_scale_factor))\n",
    "\n",
    "def ph(x):\n",
    "    return -jnp.log(1 - x)\n",
    "\n",
    "first_segment = t1_duration(kappa_vals, rough_max_amp_scaled, tau_0=tau_0)\n",
    "third_segment = t3_duration(kappa_vals, rough_max_amp_scaled)\n",
    "\n",
    "t2_vals = [0.21, 0.2, 0.2]\n",
    "\n",
    "ind = 6\n",
    "\n",
    "fig, ax = plt.subplots(3, figsize=(10.0, 16.0))\n",
    "\n",
    "dx = ts[1] - ts[0]\n",
    "usable_ts = ts[1:-1]\n",
    "print(len(usable_ts))\n",
    "\n",
    "first_deriv = jnp.diff(max_actions[0, -1, ind]) / dx\n",
    "ax[0].plot(ts, first_deriv)\n",
    "second_deriv = (jnp.diff(first_deriv) / dx) ** 2\n",
    "first_smoothness = trapezoid(second_deriv, usable_ts, dx=dx) / dx\n",
    "print(f\"First Smoothness: {first_smoothness}\")\n",
    "\n",
    "first_deriv = jnp.diff(max_actions[1, -1, ind]) / dx\n",
    "second_deriv = (jnp.diff(first_deriv) / dx) ** 2\n",
    "second_smoothness = trapezoid(second_deriv, usable_ts, dx=dx) / dx\n",
    "print(f\"Second Smoothness: {second_smoothness}\")\n",
    "\n",
    "first_deriv = jnp.diff(max_actions[2, -1, ind]) / dx\n",
    "second_deriv = (jnp.diff(first_deriv) / dx) ** 2\n",
    "third_smoothness = trapezoid(second_deriv, usable_ts, dx=dx) / dx\n",
    "print(f\"Third Smoothness: {third_smoothness}\")\n",
    "\n",
    "ax[0].plot(ts, max_actions[0, -1, ind], label='less')\n",
    "ax[0].set_xlabel('time (us)')\n",
    "ax[0].set_ylabel('amplitude (A.U.)')\n",
    "ax[0].set_title('10 percent less kappa')\n",
    "ax[0].axvline(x=first_segment[0], color='black', label='t1')\n",
    "ax[0].axvline(x=t2_vals[0], color='orange', label='t2')\n",
    "ax[0].axvline(x=t2_vals[0] + third_segment[0], color='red', label='t3')\n",
    "ax[0].axhline(y=0, linestyle='dashed', color='grey')\n",
    "ax[0].legend()\n",
    "\n",
    "ax[1].plot(ts, max_actions[1, -1, ind], label='equal')\n",
    "ax[1].set_xlabel('time (us)')\n",
    "ax[1].set_ylabel('amplitude (A.U.)')\n",
    "ax[1].set_title('equal kappa')\n",
    "ax[1].axvline(x=first_segment[1], color='black', label='t1')\n",
    "ax[1].axvline(x=t2_vals[1], color='orange', label='t2')\n",
    "ax[1].axvline(x=t2_vals[1] + third_segment[1], color='red', label='t3')\n",
    "ax[1].axhline(y=0, linestyle='dashed', color='grey')\n",
    "ax[1].legend()\n",
    "\n",
    "ax[2].plot(ts, -max_actions[2, -1, ind], label='more')\n",
    "ax[2].set_xlabel('time (us)')\n",
    "ax[2].set_ylabel('amplitude (A.U.)')\n",
    "ax[2].set_title('10 percent more kappa')\n",
    "ax[2].axvline(x=first_segment[2], color='black', label='t1')\n",
    "ax[2].axvline(x=t2_vals[2], color='orange', label='t2')\n",
    "ax[2].axvline(x=t2_vals[2] + third_segment[2], color='red', label='t3')\n",
    "ax[2].axhline(y=0, linestyle='dashed', color='grey')\n",
    "ax[2].legend()\n",
    "\n",
    "plt.show()"
   ]
  },
  {
   "cell_type": "markdown",
   "metadata": {},
   "source": [
    "87.8s for 100 updates\n",
    "151.8s for 200 updates"
   ]
  },
  {
   "cell_type": "code",
   "execution_count": 76,
   "metadata": {},
   "outputs": [
    {
     "data": {
      "image/png": "[encoded data removed]",
      "text/plain": [
       "<Figure size 640x480 with 2 Axes>"
      ]
     },
     "metadata": {},
     "output_type": "display_data"
    }
   ],
   "source": [
    "from jax.scipy.integrate import trapezoid\n",
    "from jax.scipy.special import erf\n",
    "\n",
    "def fidelity_curves(\n",
    "    kappa,\n",
    "    chi,\n",
    "    N0,\n",
    "    res_scale_factor,\n",
    "    tau_0,\n",
    "    init_fid,\n",
    "    gamma_M,\n",
    "    b,\n",
    "    mu_s\n",
    "):\n",
    "    ts = jnp.linspace(0., 10. / kappa, 401)\n",
    "    t1 = t1_duration(kappa, res_scale_factor, tau_0)\n",
    "    factor = 1 - jnp.exp(-0.5*kappa*tau_0)\n",
    "\n",
    "    ts_particular = jnp.linspace(0., t1, 401)\n",
    "    high_photons = N0 * res_scale_factor ** 2 * (1 - np.exp(-0.5 * kappa * ts_particular))**2\n",
    "    integral_val = trapezoid(gamma_M + b * high_photons, ts_particular, dx=0.0001)\n",
    "    high_fidelity = init_fid * np.exp(-integral_val)\n",
    "\n",
    "    fidelity_i2 = high_fidelity * jnp.exp(-(gamma_M + b * N0 * factor**2) * (ts - t1))\n",
    "    \n",
    "    B1 = res_scale_factor * ( chi/kappa * (1 - jnp.exp(-0.5 * kappa * t1)) - 0.5 * chi * t1 * jnp.exp(-0.5 * kappa * t1) ) / factor\n",
    "\n",
    "    separation_77 = 2 * jnp.sqrt(N0) * factor * (\n",
    "        jnp.exp(-0.5 * kappa * (ts - t1)) * B1 + chi / kappa * (1 - jnp.exp(-0.5 * kappa * (ts - t1)))\n",
    "    )\n",
    "\n",
    "    full_fidelity = erf(mu_s * separation_77) * fidelity_i2\n",
    "\n",
    "    fig, ax = plt.subplots(2)\n",
    "\n",
    "    ax[0].axvline(x=t1, label='t1', color='black')\n",
    "    ax[0].plot(ts, ph(fidelity_i2), label='max fid')\n",
    "    ax[0].plot(ts, ph(full_fidelity), label='opt possible fid')\n",
    "    ax[0].legend()\n",
    "\n",
    "    ax[1].axvline(x=t1, label='t1', color='black')\n",
    "    ax[1].plot(ts, fidelity_i2, label='max fid')\n",
    "    # ax[1].plot(ts, full_fidelity, label='opt possible fid')\n",
    "    ax[1].legend()\n",
    "\n",
    "    plt.show()\n",
    "\n",
    "fidelity_curves(\n",
    "    kappa=kappa,\n",
    "    chi=chi,\n",
    "    N0=rough_max_photons,\n",
    "    res_scale_factor=rough_max_amp_scaled,\n",
    "    tau_0=tau_0,\n",
    "    init_fid=init_fid,\n",
    "    gamma_M=gamma_I,\n",
    "    b=photon_gamma,\n",
    "    mu_s=scaling_factor\n",
    ")"
   ]
  }
 ],
 "metadata": {
  "kernelspec": {
   "display_name": "readout_env",
   "language": "python",
   "name": "python3"
  },
  "language_info": {
   "codemirror_mode": {
    "name": "ipython",
    "version": 3
   },
   "file_extension": ".py",
   "mimetype": "text/x-python",
   "name": "python",
   "nbconvert_exporter": "python",
   "pygments_lexer": "ipython3",
   "version": "3.9.11"
  }
 },
 "nbformat": 4,
 "nbformat_minor": 2
}
