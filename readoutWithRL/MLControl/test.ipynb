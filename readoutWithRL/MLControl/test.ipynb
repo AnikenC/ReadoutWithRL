{
 "cells": [
  {
   "cell_type": "code",
   "execution_count": 9,
   "metadata": {},
   "outputs": [],
   "source": [
    "# Imports\n",
    "\n",
    "import time\n",
    "import numpy as np\n",
    "import matplotlib.pyplot as plt\n",
    "\n",
    "import jax\n",
    "import jax.numpy as jnp\n",
    "from jax import jit, vmap, block_until_ready\n",
    "\n",
    "from envs.photon_env import BatchedPhotonLangevinReadoutEnv\n",
    "from envs.single_photon_env import SinglePhotonLangevinReadoutEnv\n",
    "\n",
    "from rl_algos.rl_wrappers import VecEnv"
   ]
  },
  {
   "cell_type": "code",
   "execution_count": 10,
   "metadata": {},
   "outputs": [
    {
     "name": "stdout",
     "output_type": "stream",
     "text": [
      "Rough Max Photons: 43\n",
      "Actual Max Photons: 41.40804860100575\n"
     ]
    }
   ],
   "source": [
    "# Defining Cairo Params and RL Params\n",
    "\n",
    "tau_0 = 0.398\n",
    "kappa = 20.0\n",
    "chi = 0.65 * 2. * jnp.pi\n",
    "kerr = 0.002\n",
    "gamma = 1/140\n",
    "time_coeff = 10.0\n",
    "snr_coeff = 10.0\n",
    "smoothness_coeff = 10.0\n",
    "n0 = 43\n",
    "res_amp_scaling = 1/0.43\n",
    "actual_max_photons = n0 * (1 - jnp.exp(-0.5 * kappa * tau_0))**2\n",
    "print(f\"Rough Max Photons: {n0}\")\n",
    "print(f\"Actual Max Photons: {actual_max_photons}\")\n",
    "nR = 0.01\n",
    "snr_scale_factor = 1.9\n",
    "gamma_I = 1/140\n",
    "num_t1 = 5.0\n",
    "photon_gamma = 1/1500\n",
    "init_fid = 1 - 1e-4\n",
    "photon_weight = 4.0\n",
    "\n",
    "batchsize = 64\n",
    "num_envs = 8\n",
    "num_updates = 2000\n",
    "config = {\n",
    "    \"LR\": 3e-3,\n",
    "    \"NUM_ENVS\": num_envs,\n",
    "    \"NUM_STEPS\": batchsize,\n",
    "    \"NUM_UPDATES\": num_updates,\n",
    "    \"UPDATE_EPOCHS\": 4,\n",
    "    \"NUM_MINIBATCHES\": int(batchsize * num_envs / 64),\n",
    "    \"CLIP_EPS\": 0.2,\n",
    "    \"VALUE_CLIP_EPS\": 0.2,\n",
    "    \"ENT_COEF\": 0.0,\n",
    "    \"VF_COEF\": 0.5,\n",
    "    \"MAX_GRAD_NORM\": 0.5,\n",
    "    \"ACTIVATION\": \"relu6\",\n",
    "    \"LAYER_SIZE\": 64,\n",
    "    \"ENV_NAME\": \"photon_langevin_readout_env\",\n",
    "    \"ANNEAL_LR\": False,\n",
    "    \"DEBUG\": True,\n",
    "    \"DEBUG_ACTION\": False,\n",
    "    \"PRINT_RATE\": 100,\n",
    "    \"ACTION_PRINT_RATE\": 100,\n",
    "}"
   ]
  },
  {
   "cell_type": "code",
   "execution_count": 11,
   "metadata": {},
   "outputs": [],
   "source": [
    "single_env = SinglePhotonLangevinReadoutEnv(\n",
    "    kappa=kappa,\n",
    "    chi=chi,\n",
    "    kerr=kerr,\n",
    "    time_coeff=time_coeff,\n",
    "    snr_coeff=snr_coeff,\n",
    "    smoothness_coeff=smoothness_coeff,\n",
    "    n0=n0,\n",
    "    tau_0=tau_0,\n",
    "    res_amp_scaling=res_amp_scaling,\n",
    "    nR=nR,\n",
    "    snr_scale_factor=snr_scale_factor,\n",
    "    gamma_I=gamma_I,\n",
    "    photon_gamma=photon_gamma,\n",
    "    num_t1=num_t1,\n",
    "    init_fid=init_fid,\n",
    "    photon_weight=photon_weight,\n",
    ")"
   ]
  },
  {
   "cell_type": "code",
   "execution_count": 18,
   "metadata": {},
   "outputs": [
    {
     "name": "stdout",
     "output_type": "stream",
     "text": [
      "Time taken for single action: 5.686044692993164ms\n"
     ]
    }
   ],
   "source": [
    "### Timing for Single Env ###\n",
    "\n",
    "rng = jax.random.PRNGKey(seed=30)\n",
    "rng, rng_reset = jax.random.split(rng)\n",
    "\n",
    "env_params = single_env.default_params\n",
    "\n",
    "init_obs, init_state = single_env.reset(rng_reset, env_params)\n",
    "\n",
    "dummy_action = jnp.ones_like(single_env.ts_action)\n",
    "\n",
    "rng, rng_step = jax.random.split(rng)\n",
    "\n",
    "obs, state, reward, done, info = single_env.step(rng_step, init_state, dummy_action, env_params)\n",
    "\n",
    "start = time.time()\n",
    "obs, state, reward, done, info = single_env.step(rng_step, init_state, dummy_action, env_params)\n",
    "end = time.time()\n",
    "time_taken = end - start\n",
    "us = 1e-6\n",
    "ms = 1e-3\n",
    "\n",
    "print(f\"Time taken for single action: {time_taken / ms}ms\")"
   ]
  },
  {
   "cell_type": "code",
   "execution_count": 19,
   "metadata": {},
   "outputs": [
    {
     "name": "stdout",
     "output_type": "stream",
     "text": [
      "Time taken for 512 vmapped actions: 113.00086975097656ms\n",
      "Time taken per action: 220.7048237323761us\n"
     ]
    }
   ],
   "source": [
    "### Timing when vmapped ###\n",
    "\n",
    "vec_env = VecEnv(single_env)\n",
    "\n",
    "rng = jax.random.PRNGKey(seed=30)\n",
    "\n",
    "num_envs = 512\n",
    "\n",
    "rng, _rng = jax.random.split(rng)\n",
    "rng_reset = jax.random.split(_rng, num_envs)\n",
    "\n",
    "vec_env_params = vec_env.default_params\n",
    "\n",
    "init_vec_obs, init_vec_state = vec_env.reset(rng_reset, vec_env_params)\n",
    "\n",
    "rng, _rng = jax.random.split(rng)\n",
    "rng_step = jax.random.split(_rng, num_envs)\n",
    "\n",
    "vec_action = jnp.tile(dummy_action, (num_envs,1))\n",
    "\n",
    "obs, state, reward, done, info = vec_env.step(rng_step, init_vec_state, vec_action, env_params)\n",
    "\n",
    "start = time.time()\n",
    "obs, state, reward, done, info = block_until_ready(vec_env.step(rng_step, init_vec_state, vec_action, env_params))\n",
    "end = time.time()\n",
    "time_taken = end - start\n",
    "\n",
    "print(f\"Time taken for {num_envs} vmapped actions: {time_taken / ms}ms\")\n",
    "print(f\"Time taken per action: {time_taken / num_envs / us}us\")"
   ]
  },
  {
   "cell_type": "code",
   "execution_count": 20,
   "metadata": {},
   "outputs": [],
   "source": [
    "batched_env = BatchedPhotonLangevinReadoutEnv(\n",
    "    kappa=kappa,\n",
    "    chi=chi,\n",
    "    batchsize=num_envs,\n",
    "    kerr=kerr,\n",
    "    time_coeff=time_coeff,\n",
    "    snr_coeff=snr_coeff,\n",
    "    smoothness_coeff=smoothness_coeff,\n",
    "    n0=n0,\n",
    "    tau_0=tau_0,\n",
    "    res_amp_scaling=res_amp_scaling,\n",
    "    nR=nR,\n",
    "    snr_scale_factor=snr_scale_factor,\n",
    "    gamma_I=gamma_I,\n",
    "    photon_gamma=photon_gamma,\n",
    "    num_t1=num_t1,\n",
    "    init_fid=init_fid,\n",
    "    photon_weight=photon_weight,\n",
    ")"
   ]
  },
  {
   "cell_type": "code",
   "execution_count": 22,
   "metadata": {},
   "outputs": [
    {
     "name": "stdout",
     "output_type": "stream",
     "text": [
      "Time taken for 512 vmapped actions: 97.28407859802246ms\n",
      "Time taken per action: 190.00796601176262us\n"
     ]
    }
   ],
   "source": [
    "### Comparing with Old Batched Environment\n",
    "\n",
    "rng = jax.random.PRNGKey(seed=30)\n",
    "rng, rng_reset = jax.random.split(rng)\n",
    "\n",
    "batched_env_params = batched_env.default_params\n",
    "init_obs, init_state = batched_env.reset(rng_reset, batched_env_params)\n",
    "\n",
    "rng, rng_step = jax.random.split(rng)\n",
    "\n",
    "obs, state, reward, done, info = batched_env.step(rng_step, init_state, vec_action, batched_env_params)\n",
    "\n",
    "start = time.time()\n",
    "obs, state, reward, done, info = block_until_ready(batched_env.step(rng_step, init_state, vec_action, batched_env_params))\n",
    "end = time.time()\n",
    "time_taken = end - start\n",
    "\n",
    "print(f\"Time taken for {num_envs} vmapped actions: {time_taken / ms}ms\")\n",
    "print(f\"Time taken per action: {time_taken / num_envs / us}us\")"
   ]
  },
  {
   "cell_type": "code",
   "execution_count": 8,
   "metadata": {},
   "outputs": [
    {
     "name": "stdout",
     "output_type": "stream",
     "text": [
      "0\n",
      "32\n",
      "Vec: 413.5593771934509\n",
      "Batched: 299.31962490081787\n",
      "1\n",
      "64\n",
      "Vec: 305.5669367313385\n",
      "Batched: 242.1550452709198\n",
      "2\n",
      "128\n",
      "Vec: 250.91320276260376\n",
      "Batched: 212.63211965560913\n",
      "3\n",
      "256\n",
      "Vec: 218.6717465519905\n",
      "Batched: 200.68325102329254\n",
      "4\n",
      "512\n",
      "Vec: 226.7640084028244\n",
      "Batched: 198.41361790895462\n",
      "5\n",
      "1024\n",
      "Vec: 196.55493088066578\n",
      "Batched: 182.66867846250534\n",
      "6\n",
      "2048\n",
      "Vec: 216.82865917682648\n",
      "Batched: 229.136785492301\n"
     ]
    },
    {
     "data": {
      "image/png": "[encoded data removed]",
      "text/plain": [
       "<Figure size 640x480 with 1 Axes>"
      ]
     },
     "metadata": {},
     "output_type": "display_data"
    }
   ],
   "source": [
    "### Time Scaling Comparisons ###\n",
    "\n",
    "num_envs_arr = jnp.array([32, 64, 128, 256, 512, 1024, 2048], dtype=jnp.int32)\n",
    "\n",
    "vmap_time_arr = np.zeros_like(num_envs_arr)\n",
    "batched_time_arr = np.zeros_like(num_envs_arr)\n",
    "\n",
    "for i, (num_envs) in enumerate(num_envs_arr):\n",
    "    rng = jax.random.PRNGKey(seed=30)\n",
    "    rng, _rng = jax.random.split(rng)\n",
    "\n",
    "    num_envs = int(num_envs)\n",
    "\n",
    "    print(i)\n",
    "    print(num_envs)\n",
    "\n",
    "    batched_env = BatchedPhotonLangevinReadoutEnv(\n",
    "        kappa=kappa,\n",
    "        chi=chi,\n",
    "        batchsize=num_envs,\n",
    "        kerr=kerr,\n",
    "        time_coeff=time_coeff,\n",
    "        snr_coeff=snr_coeff,\n",
    "        smoothness_coeff=smoothness_coeff,\n",
    "        n0=n0,\n",
    "        tau_0=tau_0,\n",
    "        res_amp_scaling=res_amp_scaling,\n",
    "        nR=nR,\n",
    "        snr_scale_factor=snr_scale_factor,\n",
    "        gamma_I=gamma_I,\n",
    "        photon_gamma=photon_gamma,\n",
    "        num_t1=num_t1,\n",
    "        init_fid=init_fid,\n",
    "        photon_weight=photon_weight,\n",
    "    )\n",
    "\n",
    "    rng_reset = jax.random.split(_rng, num_envs)\n",
    "\n",
    "    _, vec_env_state = vec_env.reset(rng_reset, vec_env_params)\n",
    "    _, batched_env_state = batched_env.reset(rng_reset, batched_env_params)\n",
    "\n",
    "    rng, _rng = jax.random.split(rng)\n",
    "    rng_step = jax.random.split(_rng, num_envs)\n",
    "\n",
    "    test_action = jnp.tile(dummy_action, (num_envs, 1))\n",
    "\n",
    "    obs, state, reward, done, info = batched_env.step(rng_step, batched_env_state, test_action, batched_env_params)\n",
    "    obs, state, reward, done, info = vec_env.step(rng_step, vec_env_state, test_action, vec_env_params)\n",
    "\n",
    "    start = time.time()\n",
    "    obs, state, reward, done, info = vec_env.step(rng_step, vec_env_state, test_action, vec_env_params)\n",
    "    end = time.time()\n",
    "    time_per_us = (end - start) / num_envs / us\n",
    "    print(f\"Vec: {time_per_us}\")\n",
    "    vmap_time_arr[i] = time_per_us\n",
    "\n",
    "    start = time.time()\n",
    "    obs, state, reward, done, info = batched_env.step(rng_step, batched_env_state, test_action, batched_env_params)\n",
    "    end = time.time()\n",
    "    time_per_us = (end - start) / num_envs / us\n",
    "    print(f\"Batched: {time_per_us}\")\n",
    "    batched_time_arr[i] = time_per_us\n",
    "\n",
    "plt.plot(num_envs_arr, vmap_time_arr, label='vmap times')\n",
    "plt.plot(num_envs_arr, batched_time_arr, label='batched times')\n",
    "plt.legend()\n",
    "plt.show()"
   ]
  },
  {
   "cell_type": "code",
   "execution_count": 23,
   "metadata": {},
   "outputs": [
    {
     "data": {
      "image/png": "[encoded data removed]",
      "text/plain": [
       "<Figure size 640x480 with 1 Axes>"
      ]
     },
     "metadata": {},
     "output_type": "display_data"
    }
   ],
   "source": [
    "plt.plot(num_envs_arr, vmap_time_arr, label='vmap times')\n",
    "plt.plot(num_envs_arr, batched_time_arr, label='batched times')\n",
    "plt.legend()\n",
    "plt.show()"
   ]
  },
  {
   "cell_type": "code",
   "execution_count": null,
   "metadata": {},
   "outputs": [],
   "source": []
  }
 ],
 "metadata": {
  "kernelspec": {
   "display_name": "readout_env",
   "language": "python",
   "name": "python3"
  },
  "language_info": {
   "codemirror_mode": {
    "name": "ipython",
    "version": 3
   },
   "file_extension": ".py",
   "mimetype": "text/x-python",
   "name": "python",
   "nbconvert_exporter": "python",
   "pygments_lexer": "ipython3",
   "version": "3.9.11"
  }
 },
 "nbformat": 4,
 "nbformat_minor": 2
}
