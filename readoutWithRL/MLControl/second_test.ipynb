{
 "cells": [
  {
   "cell_type": "code",
   "execution_count": 1,
   "metadata": {},
   "outputs": [],
   "source": [
    "# Imports\n",
    "\n",
    "import time\n",
    "import numpy as np\n",
    "import matplotlib.pyplot as plt\n",
    "\n",
    "import jax\n",
    "import jax.numpy as jnp\n",
    "from jax import jit, vmap, block_until_ready\n",
    "\n",
    "from envs.photon_env import BatchedPhotonLangevinReadoutEnv\n",
    "from envs.single_photon_env import SinglePhotonLangevinReadoutEnv\n",
    "\n",
    "from rl_algos.rl_wrappers import VecEnv"
   ]
  },
  {
   "cell_type": "code",
   "execution_count": 2,
   "metadata": {},
   "outputs": [
    {
     "name": "stdout",
     "output_type": "stream",
     "text": [
      "Rough Max Photons: 43\n",
      "Actual Max Photons: 41.40804860100575\n"
     ]
    }
   ],
   "source": [
    "# Defining Cairo Params and RL Params\n",
    "\n",
    "tau_0 = 0.398\n",
    "kappa = 20.0\n",
    "chi = 0.65 * 2. * jnp.pi\n",
    "kerr = 0.002\n",
    "gamma = 1/140\n",
    "time_coeff = 10.0\n",
    "snr_coeff = 10.0\n",
    "smoothness_coeff = 10.0\n",
    "n0 = 43\n",
    "res_amp_scaling = 1/0.43\n",
    "actual_max_photons = n0 * (1 - jnp.exp(-0.5 * kappa * tau_0))**2\n",
    "print(f\"Rough Max Photons: {n0}\")\n",
    "print(f\"Actual Max Photons: {actual_max_photons}\")\n",
    "nR = 0.01\n",
    "snr_scale_factor = 1.9\n",
    "gamma_I = 1/140\n",
    "num_t1 = 5.0\n",
    "photon_gamma = 1/1500\n",
    "init_fid = 1 - 1e-4\n",
    "photon_weight = 4.0\n",
    "\n",
    "batchsize = 64\n",
    "num_envs = 8\n",
    "num_updates = 2000\n",
    "config = {\n",
    "    \"LR\": 3e-3,\n",
    "    \"NUM_ENVS\": num_envs,\n",
    "    \"NUM_STEPS\": batchsize,\n",
    "    \"NUM_UPDATES\": num_updates,\n",
    "    \"UPDATE_EPOCHS\": 4,\n",
    "    \"NUM_MINIBATCHES\": int(batchsize * num_envs / 64),\n",
    "    \"CLIP_EPS\": 0.2,\n",
    "    \"VALUE_CLIP_EPS\": 0.2,\n",
    "    \"ENT_COEF\": 0.0,\n",
    "    \"VF_COEF\": 0.5,\n",
    "    \"MAX_GRAD_NORM\": 0.5,\n",
    "    \"ACTIVATION\": \"relu6\",\n",
    "    \"LAYER_SIZE\": 64,\n",
    "    \"ENV_NAME\": \"photon_langevin_readout_env\",\n",
    "    \"ANNEAL_LR\": False,\n",
    "    \"DEBUG\": True,\n",
    "    \"DEBUG_ACTION\": False,\n",
    "    \"PRINT_RATE\": 100,\n",
    "    \"ACTION_PRINT_RATE\": 100,\n",
    "}"
   ]
  },
  {
   "cell_type": "code",
   "execution_count": 3,
   "metadata": {},
   "outputs": [],
   "source": [
    "single_env = SinglePhotonLangevinReadoutEnv(\n",
    "    kappa=kappa,\n",
    "    chi=chi,\n",
    "    kerr=kerr,\n",
    "    time_coeff=time_coeff,\n",
    "    snr_coeff=snr_coeff,\n",
    "    smoothness_coeff=smoothness_coeff,\n",
    "    n0=n0,\n",
    "    tau_0=tau_0,\n",
    "    res_amp_scaling=res_amp_scaling,\n",
    "    nR=nR,\n",
    "    snr_scale_factor=snr_scale_factor,\n",
    "    gamma_I=gamma_I,\n",
    "    photon_gamma=photon_gamma,\n",
    "    num_t1=num_t1,\n",
    "    init_fid=init_fid,\n",
    "    photon_weight=photon_weight,\n",
    ")"
   ]
  },
  {
   "cell_type": "code",
   "execution_count": 4,
   "metadata": {},
   "outputs": [
    {
     "name": "stdout",
     "output_type": "stream",
     "text": [
      "Time taken for single action: 5.030155181884766ms\n"
     ]
    }
   ],
   "source": [
    "### Timing for Single Env ###\n",
    "\n",
    "rng = jax.random.PRNGKey(seed=30)\n",
    "rng, rng_reset = jax.random.split(rng)\n",
    "\n",
    "env_params = single_env.default_params\n",
    "\n",
    "init_obs, init_state = single_env.reset(rng_reset, env_params)\n",
    "\n",
    "dummy_action = jnp.ones_like(single_env.ts_action)\n",
    "\n",
    "rng, rng_step = jax.random.split(rng)\n",
    "\n",
    "obs, state, reward, done, info = single_env.step(rng_step, init_state, dummy_action, env_params)\n",
    "\n",
    "start = time.time()\n",
    "obs, state, reward, done, info = single_env.step(rng_step, init_state, dummy_action, env_params)\n",
    "end = time.time()\n",
    "time_taken = end - start\n",
    "us = 1e-6\n",
    "ms = 1e-3\n",
    "\n",
    "print(f\"Time taken for single action: {time_taken / ms}ms\")"
   ]
  },
  {
   "cell_type": "code",
   "execution_count": 12,
   "metadata": {},
   "outputs": [
    {
     "name": "stdout",
     "output_type": "stream",
     "text": [
      "Time taken for 1024 vmapped actions: 211.51208877563477ms\n",
      "Time taken per action: 206.55477419495583us\n"
     ]
    }
   ],
   "source": [
    "### Timing when vmapped ###\n",
    "\n",
    "vec_env = VecEnv(single_env)\n",
    "\n",
    "rng = jax.random.PRNGKey(seed=30)\n",
    "\n",
    "num_envs = 1024\n",
    "\n",
    "rng, _rng = jax.random.split(rng)\n",
    "rng_reset = jax.random.split(_rng, num_envs)\n",
    "\n",
    "vec_env_params = vec_env.default_params\n",
    "\n",
    "init_vec_obs, init_vec_state = vec_env.reset(rng_reset, vec_env_params)\n",
    "\n",
    "rng, _rng = jax.random.split(rng)\n",
    "rng_step = jax.random.split(_rng, num_envs)\n",
    "\n",
    "vec_action = jnp.tile(dummy_action, (num_envs,1))\n",
    "jit_vmap_step = jax.jit(vec_env.step)\n",
    "\n",
    "obs, state, reward, done, info = jit_vmap_step(rng_step, init_vec_state, vec_action, env_params)\n",
    "\n",
    "start = time.time()\n",
    "obs, state, reward, done, info = block_until_ready(jit_vmap_step(rng_step, init_vec_state, vec_action, env_params))\n",
    "end = time.time()\n",
    "time_taken = end - start\n",
    "\n",
    "print(f\"Time taken for {num_envs} vmapped actions: {time_taken / ms}ms\")\n",
    "print(f\"Time taken per action: {time_taken / num_envs / us}us\")"
   ]
  },
  {
   "cell_type": "code",
   "execution_count": 13,
   "metadata": {},
   "outputs": [],
   "source": [
    "batched_env = BatchedPhotonLangevinReadoutEnv(\n",
    "    kappa=kappa,\n",
    "    chi=chi,\n",
    "    batchsize=num_envs,\n",
    "    kerr=kerr,\n",
    "    time_coeff=time_coeff,\n",
    "    snr_coeff=snr_coeff,\n",
    "    smoothness_coeff=smoothness_coeff,\n",
    "    n0=n0,\n",
    "    tau_0=tau_0,\n",
    "    res_amp_scaling=res_amp_scaling,\n",
    "    nR=nR,\n",
    "    snr_scale_factor=snr_scale_factor,\n",
    "    gamma_I=gamma_I,\n",
    "    photon_gamma=photon_gamma,\n",
    "    num_t1=num_t1,\n",
    "    init_fid=init_fid,\n",
    "    photon_weight=photon_weight,\n",
    ")"
   ]
  },
  {
   "cell_type": "code",
   "execution_count": 17,
   "metadata": {},
   "outputs": [
    {
     "name": "stdout",
     "output_type": "stream",
     "text": [
      "Time taken for 1024 vmapped actions: 189.3310546875ms\n",
      "Time taken per action: 184.89360809326172us\n"
     ]
    }
   ],
   "source": [
    "### Comparing with Old Batched Environment\n",
    "\n",
    "rng = jax.random.PRNGKey(seed=30)\n",
    "rng, rng_reset = jax.random.split(rng)\n",
    "\n",
    "batched_env_params = batched_env.default_params\n",
    "init_obs, init_state = batched_env.reset(rng_reset, batched_env_params)\n",
    "\n",
    "rng, rng_step = jax.random.split(rng)\n",
    "\n",
    "jit_batched_step = jax.jit(batched_env.step)\n",
    "\n",
    "obs, state, reward, done, info = jit_batched_step(rng_step, init_state, vec_action, batched_env_params)\n",
    "\n",
    "start = time.time()\n",
    "obs, state, reward, done, info = block_until_ready(jit_batched_step(rng_step, init_state, vec_action, batched_env_params))\n",
    "end = time.time()\n",
    "time_taken = end - start\n",
    "\n",
    "print(f\"Time taken for {num_envs} vmapped actions: {time_taken / ms}ms\")\n",
    "print(f\"Time taken per action: {time_taken / num_envs / us}us\")"
   ]
  },
  {
   "cell_type": "code",
   "execution_count": null,
   "metadata": {},
   "outputs": [],
   "source": []
  }
 ],
 "metadata": {
  "kernelspec": {
   "display_name": "readout_env",
   "language": "python",
   "name": "python3"
  },
  "language_info": {
   "codemirror_mode": {
    "name": "ipython",
    "version": 3
   },
   "file_extension": ".py",
   "mimetype": "text/x-python",
   "name": "python",
   "nbconvert_exporter": "python",
   "pygments_lexer": "ipython3",
   "version": "3.9.11"
  }
 },
 "nbformat": 4,
 "nbformat_minor": 2
}
