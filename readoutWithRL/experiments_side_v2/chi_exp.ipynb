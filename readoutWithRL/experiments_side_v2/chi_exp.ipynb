{
 "cells": [
  {
   "cell_type": "code",
   "execution_count": 1,
   "metadata": {},
   "outputs": [
    {
     "name": "stderr",
     "output_type": "stream",
     "text": [
      "/var/folders/g4/_yhz0jm50s17zz2ms7wwytcr0000gr/T/ipykernel_7081/2520264742.py:18: DeprecationWarning: The qiskit.IBMQ entrypoint and the qiskit-ibmq-provider package (accessible from 'qiskit.providers.ibmq`) are deprecated and will be removed in a future release. Instead you should use the qiskit-ibm-provider package which is accessible from 'qiskit_ibm_provider'. You can install it with 'pip install qiskit_ibm_provider'. Just replace 'qiskit.IBMQ' with 'qiskit_ibm_provider.IBMProvider'\n",
      "  IBMQ.load_account()\n"
     ]
    },
    {
     "data": {
      "text/plain": [
       "<AccountProvider for IBMQ(hub='ibm-q', group='open', project='main')>"
      ]
     },
     "execution_count": 1,
     "metadata": {},
     "output_type": "execute_result"
    }
   ],
   "source": [
    "# Running All Imports\n",
    "\n",
    "import numpy as np\n",
    "from numpy import ndarray\n",
    "import matplotlib.pyplot as plt\n",
    "%matplotlib inline\n",
    "\n",
    "from qiskit import IBMQ, pulse\n",
    "\n",
    "from qiskit.tools.monitor import job_monitor\n",
    "\n",
    "from qiskit.visualization.pulse_v2 import stylesheet\n",
    "\n",
    "from scipy.optimize import curve_fit\n",
    "\n",
    "from typing import Optional\n",
    "\n",
    "IBMQ.load_account()"
   ]
  },
  {
   "cell_type": "code",
   "execution_count": 2,
   "metadata": {},
   "outputs": [
    {
     "data": {
      "text/plain": [
       "[<IBMQSimulator('ibmq_qasm_simulator') from IBMQ(hub='ibm-q-nus', group='default', project='default')>,\n",
       " <IBMQBackend('ibmq_kolkata') from IBMQ(hub='ibm-q-nus', group='default', project='default')>,\n",
       " <IBMQBackend('ibmq_mumbai') from IBMQ(hub='ibm-q-nus', group='default', project='default')>,\n",
       " <IBMQSimulator('simulator_statevector') from IBMQ(hub='ibm-q-nus', group='default', project='default')>,\n",
       " <IBMQSimulator('simulator_mps') from IBMQ(hub='ibm-q-nus', group='default', project='default')>,\n",
       " <IBMQSimulator('simulator_extended_stabilizer') from IBMQ(hub='ibm-q-nus', group='default', project='default')>,\n",
       " <IBMQSimulator('simulator_stabilizer') from IBMQ(hub='ibm-q-nus', group='default', project='default')>,\n",
       " <IBMQBackend('ibm_hanoi') from IBMQ(hub='ibm-q-nus', group='default', project='default')>,\n",
       " <IBMQBackend('ibm_algiers') from IBMQ(hub='ibm-q-nus', group='default', project='default')>,\n",
       " <IBMQBackend('ibm_cairo') from IBMQ(hub='ibm-q-nus', group='default', project='default')>,\n",
       " <IBMQBackend('ibm_sherbrooke') from IBMQ(hub='ibm-q-nus', group='default', project='default')>,\n",
       " <IBMQBackend('ibm_brisbane') from IBMQ(hub='ibm-q-nus', group='default', project='default')>,\n",
       " <IBMQBackend('ibm_nazca') from IBMQ(hub='ibm-q-nus', group='default', project='default')>,\n",
       " <IBMQBackend('ibm_kyoto') from IBMQ(hub='ibm-q-nus', group='default', project='default')>,\n",
       " <IBMQBackend('ibm_osaka') from IBMQ(hub='ibm-q-nus', group='default', project='default')>]"
      ]
     },
     "execution_count": 2,
     "metadata": {},
     "output_type": "execute_result"
    }
   ],
   "source": [
    "provider = IBMQ.get_provider(hub='ibm-q-nus', group='default', project='default')\n",
    "provider.backends()"
   ]
  },
  {
   "cell_type": "code",
   "execution_count": 3,
   "metadata": {},
   "outputs": [],
   "source": [
    "DEBUG_PRINT = False\n",
    "\n",
    "backend = provider.get_backend('ibm_cairo') # replace the name with the exact one for the backend that is desired from the previous displayed backends\n",
    "backend_config = backend.configuration()\n",
    "assert backend_config.open_pulse, \"Backend doesn't support Pulse\"\n",
    "\n",
    "dt = backend_config.dt # Example way of getting data on the backend\n",
    "backend_defaults = backend.defaults() \n",
    "\n",
    "acquire_alignment = backend.configuration().timing_constraints['acquire_alignment']\n",
    "granularity = backend.configuration().timing_constraints['granularity']\n",
    "pulse_alignment = backend.configuration().timing_constraints['pulse_alignment']\n",
    "\n",
    "lcm = np.lcm(acquire_alignment, pulse_alignment)\n",
    "\n",
    "# unit conversion factors -> all backend properties returned in SI (Hz, sec, etc.)\n",
    "GHz = 1.0e9 # Gigahertz\n",
    "MHz = 1.0e6 # Megahertz\n",
    "us = 1.0e-6 # Microseconds\n",
    "ns = 1.0e-9 # Nanoseconds\n",
    "\n",
    "# Experiments will be run on these qubits\n",
    "qubit_0 = 0\n",
    "qubit_1 = 1\n",
    "\n",
    "# The sweep will be centered around the estimated qubit frequency.\n",
    "center_frequency_Hz_0 = backend_defaults.qubit_freq_est[qubit_0]\n",
    "center_frequency_Hz_1 = backend_defaults.qubit_freq_est[qubit_1]\n",
    "\n",
    "meas_freq_0 = backend_defaults.meas_freq_est[qubit_0]\n",
    "meas_freq_1 = backend_defaults.meas_freq_est[qubit_1]\n",
    "\n",
    "# scale factor to remove factors of 10 from the data\n",
    "scale_factor = 1e-7\n",
    "\n",
    "qubit = qubit_0\n",
    "\n",
    "instruction_schedule_map = backend.defaults().instruction_schedule_map\n",
    "measure_instructions = np.array(instruction_schedule_map.get(\"measure\", qubits=[qubit]).instructions)\n",
    "measure_pulse = measure_instructions[-2,1].pulse\n",
    "measure_delay = measure_instructions[-1,1]\n",
    "\n",
    "x_instructions = np.array(instruction_schedule_map.get(\"x\", qubits=[qubit]).instructions)\n",
    "x_pulse = x_instructions[0,1].pulse\n",
    "\n",
    "sx_instructions = np.array(instruction_schedule_map.get(\"sx\", qubits=[qubit]).instructions)\n",
    "sx_pulse = sx_instructions[0,1].pulse\n",
    "\n",
    "if DEBUG_PRINT:\n",
    "    print(f\"config: {backend_config}\")\n",
    "\n",
    "    for key, value in backend_config.to_dict().items():\n",
    "        print(key)\n",
    "        print(value)\n",
    "    \n",
    "    print(f\"Sampling time: {dt*1e9} ns\")    # The configuration returns dt in seconds, so multiply by\n",
    "                                            # 1e9 to get nanoseconds\n",
    "\n",
    "    backend_config.timing_constraints\n",
    "\n",
    "    print(f\"Least common multiple of acquire_alignment and pulse_alignment: {lcm}\")\n",
    "\n",
    "    print(f\"Qubit {qubit_0} has an estimated frequency of {center_frequency_Hz_0 / GHz} GHz.\")\n",
    "    print(f\"Qubit {qubit_1} has an estimated frequency of {center_frequency_Hz_1 / GHz} GHz.\")\n",
    "\n",
    "    print(f\"Resonator for qubit {qubit_0} has an estimated frequency of {meas_freq_0 / GHz} GHz.\")\n",
    "    print(f\"Resonator for qubit {qubit_1} has an estimated frequency of {meas_freq_1 / GHz} GHz.\")\n",
    "\n",
    "    print(f\"measure_instructions: {measure_instructions}\")\n",
    "\n",
    "    print(f\"measurement pulse: {measure_pulse}\")\n",
    "    print(f\"measurement delay: {measure_delay}\")\n",
    "    print(f\"x pulse: {x_pulse}\")\n",
    "    print(f\"sx pulse: {sx_pulse}\")"
   ]
  },
  {
   "cell_type": "markdown",
   "metadata": {},
   "source": [
    "## Qubit-RR Dispersive Shift Charecterisation"
   ]
  },
  {
   "cell_type": "code",
   "execution_count": 4,
   "metadata": {},
   "outputs": [],
   "source": [
    "from exp_classes.device_charecterisation import RRFreqSpec\n",
    "from utils import plot_sched, acquisition_checker\n",
    "\n",
    "freq_span = 20.0 * MHz\n",
    "num_experiments = 291\n",
    "\n",
    "rr_freq_exp = RRFreqSpec(\n",
    "    qubit=qubit,\n",
    "    backend=backend,\n",
    "    freq_span=freq_span,\n",
    "    num_experiments=num_experiments,\n",
    "    fit_func_name='gaussian',\n",
    "    chi_est=0.63 * MHz,\n",
    ")"
   ]
  },
  {
   "cell_type": "code",
   "execution_count": 5,
   "metadata": {},
   "outputs": [
    {
     "name": "stdout",
     "output_type": "stream",
     "text": [
      "{'Total Experiment Size': 582, 'Frequency Step Size (MHz)': 0.069, 'Frequency Span (MHz)': 20.0}\n"
     ]
    }
   ],
   "source": [
    "rr_freq_jobs, details = rr_freq_exp.get_jobs()\n",
    "print(details)"
   ]
  },
  {
   "cell_type": "code",
   "execution_count": 11,
   "metadata": {},
   "outputs": [
    {
     "name": "stdout",
     "output_type": "stream",
     "text": [
      "291\n"
     ]
    },
    {
     "data": {
      "image/png": "[encoded data removed]",
      "text/plain": [
       "<Figure size 1300x372.834 with 1 Axes>"
      ]
     },
     "execution_count": 11,
     "metadata": {},
     "output_type": "execute_result"
    }
   ],
   "source": [
    "job_1, job_2 = np.array(rr_freq_jobs).reshape(2, -1).tolist()\n",
    "\n",
    "num_shots = 4096\n",
    "rep_delay = 499.0 * 1e-6\n",
    "\n",
    "print(len(job_1))\n",
    "job_1[1].draw(\n",
    "    backend=backend,\n",
    "    style=stylesheet.IQXDebugging(),\n",
    "    show_framechange=True,\n",
    "    show_waveform_info=True,\n",
    "    show_barrier=True,\n",
    ")"
   ]
  },
  {
   "cell_type": "code",
   "execution_count": 13,
   "metadata": {},
   "outputs": [
    {
     "name": "stderr",
     "output_type": "stream",
     "text": [
      "/Users/chatt07/Desktop/readout_env/lib/python3.9/site-packages/qiskit/compiler/assembler.py:443: RuntimeWarning: Dynamic rep rates are supported on this backend. 'rep_delay' will be used instead of 'rep_time'.\n",
      "  warnings.warn(\n"
     ]
    },
    {
     "name": "stdout",
     "output_type": "stream",
     "text": [
      "Job Status: job is queued"
     ]
    },
    {
     "ename": "KeyboardInterrupt",
     "evalue": "",
     "output_type": "error",
     "traceback": [
      "\u001b[0;31m---------------------------------------------------------------------------\u001b[0m",
      "\u001b[0;31mKeyboardInterrupt\u001b[0m                         Traceback (most recent call last)",
      "Cell \u001b[0;32mIn[13], line 9\u001b[0m\n\u001b[1;32m      1\u001b[0m \u001b[38;5;66;03m# Running job_1, job_2\u001b[39;00m\n\u001b[1;32m      3\u001b[0m job_experiment \u001b[38;5;241m=\u001b[39m backend\u001b[38;5;241m.\u001b[39mrun(job_2, \n\u001b[1;32m      4\u001b[0m                             meas_level\u001b[38;5;241m=\u001b[39m\u001b[38;5;241m1\u001b[39m, \n\u001b[1;32m      5\u001b[0m                             meas_return\u001b[38;5;241m=\u001b[39m\u001b[38;5;124m'\u001b[39m\u001b[38;5;124msingle\u001b[39m\u001b[38;5;124m'\u001b[39m, \n\u001b[1;32m      6\u001b[0m                             shots\u001b[38;5;241m=\u001b[39mnum_shots,\n\u001b[1;32m      7\u001b[0m                             rep_delay\u001b[38;5;241m=\u001b[39mrep_delay)\n\u001b[0;32m----> 9\u001b[0m \u001b[43mjob_monitor\u001b[49m\u001b[43m(\u001b[49m\u001b[43mjob_experiment\u001b[49m\u001b[43m)\u001b[49m\n",
      "File \u001b[0;32m~/Desktop/readout_env/lib/python3.9/site-packages/qiskit/tools/monitor/job_monitor.py:105\u001b[0m, in \u001b[0;36mjob_monitor\u001b[0;34m(job, interval, quiet, output, line_discipline)\u001b[0m\n\u001b[1;32m    102\u001b[0m \u001b[38;5;28;01melse\u001b[39;00m:\n\u001b[1;32m    103\u001b[0m     _interval_set \u001b[38;5;241m=\u001b[39m \u001b[38;5;28;01mTrue\u001b[39;00m\n\u001b[0;32m--> 105\u001b[0m \u001b[43m_text_checker\u001b[49m\u001b[43m(\u001b[49m\n\u001b[1;32m    106\u001b[0m \u001b[43m    \u001b[49m\u001b[43mjob\u001b[49m\u001b[43m,\u001b[49m\u001b[43m \u001b[49m\u001b[43minterval\u001b[49m\u001b[43m,\u001b[49m\u001b[43m \u001b[49m\u001b[43m_interval_set\u001b[49m\u001b[43m,\u001b[49m\u001b[43m \u001b[49m\u001b[43mquiet\u001b[49m\u001b[38;5;241;43m=\u001b[39;49m\u001b[43mquiet\u001b[49m\u001b[43m,\u001b[49m\u001b[43m \u001b[49m\u001b[43moutput\u001b[49m\u001b[38;5;241;43m=\u001b[39;49m\u001b[43moutput\u001b[49m\u001b[43m,\u001b[49m\u001b[43m \u001b[49m\u001b[43mline_discipline\u001b[49m\u001b[38;5;241;43m=\u001b[39;49m\u001b[43mline_discipline\u001b[49m\n\u001b[1;32m    107\u001b[0m \u001b[43m\u001b[49m\u001b[43m)\u001b[49m\n",
      "File \u001b[0;32m~/Desktop/readout_env/lib/python3.9/site-packages/qiskit/tools/monitor/job_monitor.py:44\u001b[0m, in \u001b[0;36m_text_checker\u001b[0;34m(job, interval, _interval_set, quiet, output, line_discipline)\u001b[0m\n\u001b[1;32m     42\u001b[0m     \u001b[38;5;28mprint\u001b[39m(\u001b[38;5;124m\"\u001b[39m\u001b[38;5;132;01m{}\u001b[39;00m\u001b[38;5;132;01m{}\u001b[39;00m\u001b[38;5;124m: \u001b[39m\u001b[38;5;132;01m{}\u001b[39;00m\u001b[38;5;124m\"\u001b[39m\u001b[38;5;241m.\u001b[39mformat(line_discipline, \u001b[38;5;124m\"\u001b[39m\u001b[38;5;124mJob Status\u001b[39m\u001b[38;5;124m\"\u001b[39m, msg), end\u001b[38;5;241m=\u001b[39m\u001b[38;5;124m\"\u001b[39m\u001b[38;5;124m\"\u001b[39m, file\u001b[38;5;241m=\u001b[39moutput)\n\u001b[1;32m     43\u001b[0m \u001b[38;5;28;01mwhile\u001b[39;00m status\u001b[38;5;241m.\u001b[39mname \u001b[38;5;129;01mnot\u001b[39;00m \u001b[38;5;129;01min\u001b[39;00m [\u001b[38;5;124m\"\u001b[39m\u001b[38;5;124mDONE\u001b[39m\u001b[38;5;124m\"\u001b[39m, \u001b[38;5;124m\"\u001b[39m\u001b[38;5;124mCANCELLED\u001b[39m\u001b[38;5;124m\"\u001b[39m, \u001b[38;5;124m\"\u001b[39m\u001b[38;5;124mERROR\u001b[39m\u001b[38;5;124m\"\u001b[39m]:\n\u001b[0;32m---> 44\u001b[0m     \u001b[43mtime\u001b[49m\u001b[38;5;241;43m.\u001b[39;49m\u001b[43msleep\u001b[49m\u001b[43m(\u001b[49m\u001b[43minterval\u001b[49m\u001b[43m)\u001b[49m\n\u001b[1;32m     45\u001b[0m     status \u001b[38;5;241m=\u001b[39m job\u001b[38;5;241m.\u001b[39mstatus()\n\u001b[1;32m     46\u001b[0m     msg \u001b[38;5;241m=\u001b[39m status\u001b[38;5;241m.\u001b[39mvalue\n",
      "\u001b[0;31mKeyboardInterrupt\u001b[0m: "
     ]
    }
   ],
   "source": [
    "# Running job_1, job_2\n",
    "\n",
    "job_experiment = backend.run(job_2, \n",
    "                            meas_level=1, \n",
    "                            meas_return='single', \n",
    "                            shots=num_shots,\n",
    "                            rep_delay=rep_delay)\n",
    "\n",
    "job_monitor(job_experiment)"
   ]
  },
  {
   "cell_type": "code",
   "execution_count": null,
   "metadata": {},
   "outputs": [],
   "source": []
  }
 ],
 "metadata": {
  "kernelspec": {
   "display_name": "readout_env",
   "language": "python",
   "name": "python3"
  },
  "language_info": {
   "codemirror_mode": {
    "name": "ipython",
    "version": 3
   },
   "file_extension": ".py",
   "mimetype": "text/x-python",
   "name": "python",
   "nbconvert_exporter": "python",
   "pygments_lexer": "ipython3",
   "version": "3.9.11"
  }
 },
 "nbformat": 4,
 "nbformat_minor": 2
}
