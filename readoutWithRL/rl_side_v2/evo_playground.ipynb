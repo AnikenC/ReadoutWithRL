{
 "cells": [
  {
   "cell_type": "code",
   "execution_count": 1,
   "metadata": {},
   "outputs": [],
   "source": [
    "%matplotlib inline\n",
    "%load_ext autoreload\n",
    "%autoreload 2\n",
    "%config InlineBackend.figure_format = 'retina'"
   ]
  },
  {
   "cell_type": "code",
   "execution_count": 2,
   "metadata": {},
   "outputs": [],
   "source": [
    "# Imports\n",
    "\n",
    "import jax\n",
    "import jax.numpy as jnp\n",
    "\n",
    "from evosax import OpenES, CMA_ES, ParameterReshaper, FitnessShaper, NetworkMapper\n",
    "from evosax.utils import ESLog\n",
    "from evosax.problems import GymnaxFitness\n",
    "\n",
    "from envs.custom_gymnax_fitness import CustomGymnaxFitness, SpecificGymnaxFitness"
   ]
  },
  {
   "cell_type": "code",
   "execution_count": 3,
   "metadata": {},
   "outputs": [],
   "source": [
    "# Seeding\n",
    "\n",
    "seed = 0\n",
    "rng = jax.random.PRNGKey(seed)"
   ]
  },
  {
   "cell_type": "code",
   "execution_count": 4,
   "metadata": {},
   "outputs": [
    {
     "name": "stdout",
     "output_type": "stream",
     "text": [
      "ParameterReshaper: 4610 parameters detected for optimization.\n"
     ]
    }
   ],
   "source": [
    "# Setting up Network and Param Reshaper\n",
    "\n",
    "network = NetworkMapper[\"MLP\"](\n",
    "    num_hidden_units=64,\n",
    "    num_hidden_layers=2,\n",
    "    num_output_units=2,\n",
    "    hidden_activation=\"relu\",\n",
    "    output_activation=\"categorical\",\n",
    ")\n",
    "pholder = jnp.zeros((4,))\n",
    "params = network.init(\n",
    "    rng,\n",
    "    x=pholder,\n",
    "    rng=rng,\n",
    ")\n",
    "\n",
    "param_reshaper = ParameterReshaper(params)"
   ]
  },
  {
   "cell_type": "code",
   "execution_count": 5,
   "metadata": {},
   "outputs": [],
   "source": [
    "# Initialising 'Environment', which in this case is the evaluator\n",
    "# GymnaxFitness handles initialisation of environment\n",
    "\n",
    "evaluator = SpecificGymnaxFitness(\"CartPole-v1\", num_env_steps=200, num_rollouts=16)\n",
    "evaluator.set_apply_fn(network.apply)"
   ]
  },
  {
   "cell_type": "code",
   "execution_count": 6,
   "metadata": {},
   "outputs": [
    {
     "data": {
      "text/plain": [
       "EvoParams(opt_params=OptParams(lrate_init=0.1, lrate_decay=1.0, lrate_limit=0.001, momentum=None, beta_1=0.99, beta_2=0.999, beta_3=None, eps=1e-08, max_speed=None), sigma_init=0.03, sigma_decay=1.0, sigma_limit=0.01, init_min=0.0, init_max=0.0, clip_min=-3.4028235e+38, clip_max=3.4028235e+38)"
      ]
     },
     "execution_count": 6,
     "metadata": {},
     "output_type": "execute_result"
    }
   ],
   "source": [
    "# Setting up EvoAlgo Strategy, in this case OpenES\n",
    "# popsize is the population size per generation\n",
    "\n",
    "open_strategy = OpenES(popsize=100,\n",
    "                num_dims=param_reshaper.total_params,\n",
    "                opt_name=\"adam\",\n",
    "                lrate_init=0.1\n",
    "                )\n",
    "\n",
    "cma_strategy = CMA_ES(\n",
    "    popsize=100,\n",
    "    num_dims=param_reshaper.total_params,\n",
    ")\n",
    "\n",
    "strategy = open_strategy\n",
    "\n",
    "strategy.default_params"
   ]
  },
  {
   "cell_type": "code",
   "execution_count": 7,
   "metadata": {},
   "outputs": [],
   "source": [
    "# Setting up Logging\n",
    "# num_generations is the number of 'updates'\n",
    "\n",
    "num_generations = 100\n",
    "print_every_k_gens = 20\n",
    "\n",
    "es_logging = ESLog(param_reshaper.total_params,\n",
    "                   num_generations=num_generations,\n",
    "                   top_k=5,\n",
    "                   maximize=True # As in, we are trying to maximise the reward\n",
    "                   )\n",
    "log = es_logging.initialize()\n",
    "\n",
    "# Setting up FitnessShaper, where 'Fitness' is effectively the Reward\n",
    "\n",
    "fit_shaper = FitnessShaper(centered_rank=True,\n",
    "                           w_decay=0.0,\n",
    "                           maximize=True)"
   ]
  },
  {
   "cell_type": "code",
   "execution_count": 8,
   "metadata": {},
   "outputs": [
    {
     "name": "stdout",
     "output_type": "stream",
     "text": [
      "Generation:  0 Performance:  22.875\n",
      "Generation:  20 Performance:  200.0\n",
      "Generation:  40 Performance:  200.0\n",
      "Generation:  60 Performance:  200.0\n",
      "Generation:  80 Performance:  200.0\n"
     ]
    }
   ],
   "source": [
    "# Full Training Cell\n",
    "\n",
    "state = strategy.initialize(rng)\n",
    "\n",
    "for gen in range(num_generations):\n",
    "    rng, rng_init, rng_ask, rng_eval = jax.random.split(rng, 4)\n",
    "    x, state = strategy.ask(rng_ask, state) # Get NN Params from Evo\n",
    "    reshaped_params = param_reshaper.reshape(x) # Reshape NN Params for NN Rollout\n",
    "\n",
    "    # Use NN Params for MLP Policy Action, send to RL Env, and get Rewards (Fitness)\n",
    "    fitness = evaluator.rollout(rng_eval, reshaped_params).mean(axis=1)\n",
    "\n",
    "    fit_re = fit_shaper.apply(x, fitness) # Reshape Fitness (Reward)\n",
    "    state = strategy.tell(x, fit_re, state) # Update Evo Algo\n",
    "    log = es_logging.update(log, x, fitness) # Update Logger\n",
    "    \n",
    "    if gen % print_every_k_gens == 0:\n",
    "        print(\"Generation: \", gen, \"Performance: \", log[\"log_top_1\"][gen])"
   ]
  },
  {
   "cell_type": "code",
   "execution_count": null,
   "metadata": {},
   "outputs": [],
   "source": []
  }
 ],
 "metadata": {
  "kernelspec": {
   "display_name": "readout_env",
   "language": "python",
   "name": "python3"
  },
  "language_info": {
   "codemirror_mode": {
    "name": "ipython",
    "version": 3
   },
   "file_extension": ".py",
   "mimetype": "text/x-python",
   "name": "python",
   "nbconvert_exporter": "python",
   "pygments_lexer": "ipython3",
   "version": "3.9.11"
  }
 },
 "nbformat": 4,
 "nbformat_minor": 2
}
