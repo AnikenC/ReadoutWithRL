{
 "cells": [
  {
   "cell_type": "code",
   "execution_count": 1,
   "metadata": {},
   "outputs": [
    {
     "name": "stdout",
     "output_type": "stream",
     "text": [
      "3.9.11 (v3.9.11:2de452f8bf, Mar 16 2022, 10:34:36) \n",
      "[Clang 6.0 (clang-600.0.57)]\n",
      "<QiskitRuntimeService>\n"
     ]
    }
   ],
   "source": [
    "# Running All Imports\n",
    "# Running All Imports\n",
    "\n",
    "import numpy as np\n",
    "from numpy import ndarray\n",
    "import matplotlib.pyplot as plt\n",
    "%matplotlib inline\n",
    "import sys\n",
    "print(sys.version)\n",
    "\n",
    "\n",
    "from qiskit import pulse, QuantumCircuit, ClassicalRegister#, IBMQ\n",
    "\n",
    "from qiskit_ibm_runtime import QiskitRuntimeService\n",
    "\n",
    "#from qiskit.tools.monitor import job_monitor\n",
    "\n",
    "from qiskit.visualization.pulse_v2 import stylesheet\n",
    "\n",
    "from scipy.optimize import curve_fit\n",
    "\n",
    "from typing import Optional\n",
    "\n",
    "\n",
    "# IBMQ.save_account(\"TOKEN\", overwrite=True)\n",
    "# Run previous line with the appropriate token\n",
    "# service = QiskitRuntimeService(channel=\"ibm_cloud\", token=\"TOKEN\", instance=\"crn:v1:bluemix:public:quantum-computing:us-east:a/b500a23b61df4c36a9f1eef14a04227d:a6e2883a-5882-4f71-9942-1e480bb96768::\")\n",
    "service = QiskitRuntimeService()\n",
    "print(service)"
   ]
  },
  {
   "cell_type": "code",
   "execution_count": 2,
   "metadata": {},
   "outputs": [
    {
     "name": "stdout",
     "output_type": "stream",
     "text": [
      "<IBMBackend('ibm_sherbrooke')>\n"
     ]
    }
   ],
   "source": [
    "# provider = IBMQ.get_provider(hub='ibm-q', group='open', project='main')\n",
    "# provider.backends()\n",
    "### SHERBROOKE DETAILS ###\n",
    "backend = service.backend('ibm_sherbrooke') # replace the name with the exact one for the backend that is desired from the previous displayed backends\n",
    "qubit = 0\n",
    "print(backend)"
   ]
  },
  {
   "cell_type": "code",
   "execution_count": null,
   "metadata": {},
   "outputs": [],
   "source": [
    "DEBUG_PRINT = True\n",
    "\n",
    "backend_config = backend.configuration()\n",
    "assert backend_config.open_pulse, \"Backend doesn't support Pulse\"\n",
    "\n",
    "dt = backend_config.dt # Example way of getting data on the backend\n",
    "backend_defaults = backend.defaults() \n",
    "\n",
    "acquire_alignment = backend.configuration().timing_constraints['acquire_alignment']\n",
    "granularity = backend.configuration().timing_constraints['granularity']\n",
    "pulse_alignment = backend.configuration().timing_constraints['pulse_alignment']\n",
    "\n",
    "lcm = np.lcm(acquire_alignment, pulse_alignment)\n",
    "\n",
    "# unit conversion factors -> all backend properties returned in SI (Hz, sec, etc.)\n",
    "GHz = 1.0e9 # Gigahertz\n",
    "MHz = 1.0e6 # Megahertz\n",
    "us = 1.0e-6 # Microseconds\n",
    "ns = 1.0e-9 # Nanoseconds\n",
    "\n",
    "# Experiments will be run on these qubits\n",
    "qubit_0 = 0\n",
    "qubit_1 = 1\n",
    "\n",
    "# The sweep will be centered around the estimated qubit frequency.\n",
    "center_frequency_Hz_0 = backend_defaults.qubit_freq_est[qubit_0]\n",
    "center_frequency_Hz_1 = backend_defaults.qubit_freq_est[qubit_1]\n",
    "\n",
    "meas_freq_0 = backend_defaults.meas_freq_est[qubit_0]\n",
    "meas_freq_1 = backend_defaults.meas_freq_est[qubit_1]\n",
    "\n",
    "# scale factor to remove factors of 10 from the data\n",
    "scale_factor = 1e-7\n",
    "\n",
    "instruction_schedule_map = backend.defaults().instruction_schedule_map\n",
    "measure_instructions = np.array(instruction_schedule_map.get(\"measure\", qubits=[qubit]).instructions)\n",
    "measure_pulse = measure_instructions[-2,1].pulse\n",
    "measure_delay = measure_instructions[-1,1]\n",
    "\n",
    "x_instructions = np.array(instruction_schedule_map.get(\"x\", qubits=[qubit]).instructions)\n",
    "x_pulse = x_instructions[0,1].pulse\n",
    "\n",
    "sx_instructions = np.array(instruction_schedule_map.get(\"sx\", qubits=[qubit]).instructions)\n",
    "sx_pulse = sx_instructions[0,1].pulse\n",
    "\n",
    "if DEBUG_PRINT:\n",
    "    print(f\"config: {backend_config}\")\n",
    "\n",
    "    for key, value in backend_config.to_dict().items():\n",
    "        print(key)\n",
    "        print(value)\n",
    "    \n",
    "    print(f\"Sampling time: {dt*1e9} ns\")    # The configuration returns dt in seconds, so multiply by\n",
    "                                            # 1e9 to get nanoseconds\n",
    "\n",
    "    backend_config.timing_constraints\n",
    "\n",
    "    print(f\"Least common multiple of acquire_alignment and pulse_alignment: {lcm}\")\n",
    "\n",
    "    print(f\"Qubit {qubit_0} has an estimated frequency of {center_frequency_Hz_0 / GHz} GHz.\")\n",
    "    print(f\"Qubit {qubit_1} has an estimated frequency of {center_frequency_Hz_1 / GHz} GHz.\")\n",
    "\n",
    "    print(f\"Resonator for qubit {qubit_0} has an estimated frequency of {meas_freq_0 / GHz} GHz.\")\n",
    "    print(f\"Resonator for qubit {qubit_1} has an estimated frequency of {meas_freq_1 / GHz} GHz.\")\n",
    "\n",
    "    print(f\"measure_instructions: {measure_instructions}\")\n",
    "\n",
    "    print(f\"measurement pulse: {measure_pulse}\")\n",
    "    print(f\"measurement delay: {measure_delay}\")\n",
    "    print(f\"x pulse: {x_pulse}\")\n",
    "    print(f\"sx pulse: {sx_pulse}\")"
   ]
  },
  {
   "cell_type": "markdown",
   "metadata": {},
   "source": [
    "## Running 2-Step Reset Sweep\n",
    "1. Effectively do Kappa Experiment but with varying duration reset tone, play measurement after reset tone and see how long it takes"
   ]
  }
 ],
 "metadata": {
  "kernelspec": {
   "display_name": "new_readout_env",
   "language": "python",
   "name": "python3"
  },
  "language_info": {
   "codemirror_mode": {
    "name": "ipython",
    "version": 3
   },
   "file_extension": ".py",
   "mimetype": "text/x-python",
   "name": "python",
   "nbconvert_exporter": "python",
   "pygments_lexer": "ipython3",
   "version": "3.9.11"
  }
 },
 "nbformat": 4,
 "nbformat_minor": 2
}
