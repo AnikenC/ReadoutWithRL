{
 "cells": [
  {
   "cell_type": "code",
   "execution_count": 7,
   "metadata": {},
   "outputs": [],
   "source": [
    "import numpy as np\n",
    "import matplotlib.pyplot as plt\n",
    "\n",
    "import jax\n",
    "import jax.numpy as jnp\n",
    "from jax.scipy.special import erf\n",
    "\n",
    "from scipy.optimize import curve_fit"
   ]
  },
  {
   "cell_type": "markdown",
   "metadata": {},
   "source": [
    "## Building Fidelity Model for Kyoto"
   ]
  },
  {
   "cell_type": "code",
   "execution_count": 8,
   "metadata": {},
   "outputs": [],
   "source": [
    "# All times in us and freqs in MHz\n",
    "kappa = 10.49\n",
    "chi = 0.92 * 2. * np.pi\n",
    "N0 = 25.5\n",
    "\n",
    "V = 1.0 # SNR Scaling Parameter\n",
    "\n",
    "T1 = 286.0\n",
    "g_n = 1/(1000.) # Photon Decay Rate\n",
    "\n",
    "t0 = 0.\n",
    "t1 = 1.\n",
    "num_ts = 361\n",
    "ts = jnp.linspace(t0, t1, num_ts)"
   ]
  },
  {
   "cell_type": "code",
   "execution_count": null,
   "metadata": {},
   "outputs": [],
   "source": [
    "## Analytical Equations\n",
    "\n",
    "separation = 2 * jnp.sqrt(N0 / (kappa**2  +chi**2)) * (chi * (1. - jnp.cos(0.5 * chi * ts) * jnp.exp(-0.5 * kappa * ts)) - kappa * jnp.sin(0.5 * chi * ts) * jnp.exp(-0.5 * kappa * ts))\n",
    "fid_sep = 0.5 * (1. + erf(V * separation))\n",
    "fidelity = "
   ]
  }
 ],
 "metadata": {
  "kernelspec": {
   "display_name": "readout_env",
   "language": "python",
   "name": "python3"
  },
  "language_info": {
   "codemirror_mode": {
    "name": "ipython",
    "version": 3
   },
   "file_extension": ".py",
   "mimetype": "text/x-python",
   "name": "python",
   "nbconvert_exporter": "python",
   "pygments_lexer": "ipython3",
   "version": "3.9.11"
  }
 },
 "nbformat": 4,
 "nbformat_minor": 2
}
