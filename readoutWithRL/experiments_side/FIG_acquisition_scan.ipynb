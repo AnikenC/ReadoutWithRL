{
 "cells": [
  {
   "cell_type": "code",
   "execution_count": 1,
   "metadata": {},
   "outputs": [
    {
     "name": "stderr",
     "output_type": "stream",
     "text": [
      "/var/folders/g4/_yhz0jm50s17zz2ms7wwytcr0000gr/T/ipykernel_71081/2268176252.py:19: DeprecationWarning: The qiskit.IBMQ entrypoint and the qiskit-ibmq-provider package (accessible from 'qiskit.providers.ibmq`) are deprecated and will be removed in a future release. Instead you should use the qiskit-ibm-provider package which is accessible from 'qiskit_ibm_provider'. You can install it with 'pip install qiskit_ibm_provider'. Just replace 'qiskit.IBMQ' with 'qiskit_ibm_provider.IBMProvider'\n",
      "  IBMQ.load_account()\n"
     ]
    },
    {
     "data": {
      "text/plain": [
       "<AccountProvider for IBMQ(hub='ibm-q', group='open', project='main')>"
      ]
     },
     "execution_count": 1,
     "metadata": {},
     "output_type": "execute_result"
    }
   ],
   "source": [
    "# Running All Imports\n",
    "\n",
    "import numpy as np\n",
    "from numpy import ndarray\n",
    "import matplotlib.pyplot as plt\n",
    "%matplotlib inline\n",
    "\n",
    "from qiskit import IBMQ, pulse, schedule\n",
    "\n",
    "from qiskit.circuit import Parameter, QuantumCircuit, Gate\n",
    "from qiskit.tools.monitor import job_monitor\n",
    "\n",
    "from qiskit.visualization.pulse_v2 import stylesheet\n",
    "\n",
    "from scipy.optimize import curve_fit\n",
    "\n",
    "from typing import Optional, Union\n",
    "\n",
    "IBMQ.load_account()"
   ]
  },
  {
   "cell_type": "code",
   "execution_count": 2,
   "metadata": {},
   "outputs": [
    {
     "data": {
      "text/plain": [
       "[<IBMQSimulator('ibmq_qasm_simulator') from IBMQ(hub='ibm-q-nus', group='default', project='default')>,\n",
       " <IBMQBackend('ibmq_kolkata') from IBMQ(hub='ibm-q-nus', group='default', project='default')>,\n",
       " <IBMQBackend('ibmq_mumbai') from IBMQ(hub='ibm-q-nus', group='default', project='default')>,\n",
       " <IBMQSimulator('simulator_statevector') from IBMQ(hub='ibm-q-nus', group='default', project='default')>,\n",
       " <IBMQSimulator('simulator_mps') from IBMQ(hub='ibm-q-nus', group='default', project='default')>,\n",
       " <IBMQSimulator('simulator_extended_stabilizer') from IBMQ(hub='ibm-q-nus', group='default', project='default')>,\n",
       " <IBMQSimulator('simulator_stabilizer') from IBMQ(hub='ibm-q-nus', group='default', project='default')>,\n",
       " <IBMQBackend('ibm_hanoi') from IBMQ(hub='ibm-q-nus', group='default', project='default')>,\n",
       " <IBMQBackend('ibm_algiers') from IBMQ(hub='ibm-q-nus', group='default', project='default')>,\n",
       " <IBMQBackend('ibm_cairo') from IBMQ(hub='ibm-q-nus', group='default', project='default')>,\n",
       " <IBMQBackend('ibm_sherbrooke') from IBMQ(hub='ibm-q-nus', group='default', project='default')>,\n",
       " <IBMQBackend('ibm_brisbane') from IBMQ(hub='ibm-q-nus', group='default', project='default')>,\n",
       " <IBMQBackend('ibm_nazca') from IBMQ(hub='ibm-q-nus', group='default', project='default')>,\n",
       " <IBMQBackend('ibm_kyoto') from IBMQ(hub='ibm-q-nus', group='default', project='default')>,\n",
       " <IBMQBackend('ibm_osaka') from IBMQ(hub='ibm-q-nus', group='default', project='default')>]"
      ]
     },
     "execution_count": 2,
     "metadata": {},
     "output_type": "execute_result"
    }
   ],
   "source": [
    "provider = IBMQ.get_provider(hub='ibm-q-nus', group='default', project='default')\n",
    "provider.backends()"
   ]
  },
  {
   "cell_type": "code",
   "execution_count": 3,
   "metadata": {},
   "outputs": [],
   "source": [
    "DEBUG_PRINT = False\n",
    "\n",
    "backend = provider.get_backend('ibm_cairo') # replace the name with the exact one for the backend that is desired from the previous displayed backends\n",
    "backend_config = backend.configuration()\n",
    "assert backend_config.open_pulse, \"Backend doesn't support Pulse\"\n",
    "\n",
    "dt = backend_config.dt # Example way of getting data on the backend\n",
    "backend_defaults = backend.defaults() \n",
    "\n",
    "acquire_alignment = backend.configuration().timing_constraints['acquire_alignment']\n",
    "granularity = backend.configuration().timing_constraints['granularity']\n",
    "pulse_alignment = backend.configuration().timing_constraints['pulse_alignment']\n",
    "\n",
    "lcm = np.lcm(acquire_alignment, pulse_alignment)\n",
    "\n",
    "# unit conversion factors -> all backend properties returned in SI (Hz, sec, etc.)\n",
    "GHz = 1.0e9 # Gigahertz\n",
    "MHz = 1.0e6 # Megahertz\n",
    "us = 1.0e-6 # Microseconds\n",
    "ns = 1.0e-9 # Nanoseconds\n",
    "\n",
    "# Experiments will be run on these qubits\n",
    "qubit_0 = 0\n",
    "qubit_1 = 1\n",
    "\n",
    "# The sweep will be centered around the estimated qubit frequency.\n",
    "center_frequency_Hz_0 = backend_defaults.qubit_freq_est[qubit_0]\n",
    "center_frequency_Hz_1 = backend_defaults.qubit_freq_est[qubit_1]\n",
    "\n",
    "meas_freq_0 = backend_defaults.meas_freq_est[qubit_0]\n",
    "meas_freq_1 = backend_defaults.meas_freq_est[qubit_1]\n",
    "\n",
    "# scale factor to remove factors of 10 from the data\n",
    "scale_factor = 1e-7\n",
    "\n",
    "qubit = qubit_0\n",
    "\n",
    "instruction_schedule_map = backend.defaults().instruction_schedule_map\n",
    "measure_instructions = np.array(instruction_schedule_map.get(\"measure\", qubits=[qubit]).instructions)\n",
    "measure_pulse = measure_instructions[-2,1].pulse\n",
    "measure_delay = measure_instructions[-1,1]\n",
    "\n",
    "x_instructions = np.array(instruction_schedule_map.get(\"x\", qubits=[qubit]).instructions)\n",
    "x_pulse = x_instructions[0,1].pulse\n",
    "\n",
    "sx_instructions = np.array(instruction_schedule_map.get(\"sx\", qubits=[qubit]).instructions)\n",
    "sx_pulse = sx_instructions[0,1].pulse\n",
    "\n",
    "if DEBUG_PRINT:\n",
    "    print(f\"config: {backend_config}\")\n",
    "\n",
    "    for key, value in backend_config.to_dict().items():\n",
    "        print(key)\n",
    "        print(value)\n",
    "    \n",
    "    print(f\"Sampling time: {dt*1e9} ns\")    # The configuration returns dt in seconds, so multiply by\n",
    "                                            # 1e9 to get nanoseconds\n",
    "\n",
    "    backend_config.timing_constraints\n",
    "\n",
    "    print(f\"Least common multiple of acquire_alignment and pulse_alignment: {lcm}\")\n",
    "\n",
    "    print(f\"Qubit {qubit_0} has an estimated frequency of {center_frequency_Hz_0 / GHz} GHz.\")\n",
    "    print(f\"Qubit {qubit_1} has an estimated frequency of {center_frequency_Hz_1 / GHz} GHz.\")\n",
    "\n",
    "    print(f\"Resonator for qubit {qubit_0} has an estimated frequency of {meas_freq_0 / GHz} GHz.\")\n",
    "    print(f\"Resonator for qubit {qubit_1} has an estimated frequency of {meas_freq_1 / GHz} GHz.\")\n",
    "\n",
    "    print(f\"measure_instructions: {measure_instructions}\")\n",
    "\n",
    "    print(f\"measurement pulse: {measure_pulse}\")\n",
    "    print(f\"measurement delay: {measure_delay}\")\n",
    "    print(f\"x pulse: {x_pulse}\")\n",
    "    print(f\"sx pulse: {sx_pulse}\")"
   ]
  },
  {
   "cell_type": "code",
   "execution_count": 4,
   "metadata": {},
   "outputs": [
    {
     "name": "stdout",
     "output_type": "stream",
     "text": [
      "[38.  41.5 45.  48.5 52. ]\n",
      "[39.11111111 42.66666667 46.22222222 49.77777778 53.33333333]\n"
     ]
    }
   ],
   "source": [
    "from helper_funcs.utils import *\n",
    "\n",
    "tau_1_est = 45 * ns\n",
    "tau_1_span = 14 * ns\n",
    "num_tau_1 = 5\n",
    "\n",
    "tau_1_linspace = np.linspace(-0.5 * tau_1_span + tau_1_est, 0.5 * tau_1_span + tau_1_est, num_tau_1)\n",
    "real_tau_1_linspace = convert_arr_to_dt(tau_1_linspace)\n",
    "\n",
    "print(tau_1_linspace/ns)\n",
    "print(real_tau_1_linspace/ns)"
   ]
  },
  {
   "cell_type": "code",
   "execution_count": 5,
   "metadata": {},
   "outputs": [
    {
     "name": "stdout",
     "output_type": "stream",
     "text": [
      "270.22222222222223\n",
      "46.222222222222214\n",
      "[7.11111111 3.55555556 7.11111111 3.55555556 7.11111111 3.55555556\n",
      " 7.11111111 3.55555556 7.11111111 3.55555556 7.11111111 3.55555556\n",
      " 7.11111111 3.55555556 7.11111111 3.55555556 7.11111111 3.55555556\n",
      " 7.11111111 3.55555556 7.11111111 3.55555556 7.11111111 3.55555556\n",
      " 7.11111111 3.55555556 7.11111111 3.55555556 7.11111111 3.55555556\n",
      " 7.11111111 3.55555556 7.11111111 3.55555556 7.11111111 3.55555556\n",
      " 7.11111111 3.55555556 7.11111111 3.55555556 7.11111111 3.55555556\n",
      " 7.11111111 3.55555556 7.11111111 3.55555556 7.11111111]\n",
      "[149.33333333 156.44444444 160.         167.11111111 170.66666667\n",
      " 177.77777778 181.33333333 188.44444444 192.         199.11111111\n",
      " 202.66666667 209.77777778 213.33333333 220.44444444 224.\n",
      " 231.11111111 234.66666667 241.77777778 245.33333333 252.44444444\n",
      " 256.         263.11111111 266.66666667 273.77777778 277.33333333\n",
      " 284.44444444 288.         295.11111111 298.66666667 305.77777778\n",
      " 309.33333333 316.44444444 320.         327.11111111 330.66666667\n",
      " 337.77777778 341.33333333 348.44444444 352.         359.11111111\n",
      " 362.66666667 369.77777778 373.33333333 380.44444444 384.\n",
      " 391.11111111 394.66666667 401.77777778]\n",
      "Total Exps: 480\n"
     ]
    }
   ],
   "source": [
    "tau_readout = get_dt_from(270 * ns) * dt\n",
    "tau_3 = get_dt_from(45 * ns) * dt\n",
    "print(tau_readout/ns)\n",
    "print(tau_3/ns)\n",
    "\n",
    "acq_duration_dt = 48\n",
    "acq_latency_dt = get_dt_from(320 * ns)\n",
    "acq_start = 150. * ns\n",
    "acq_end = 400. * ns\n",
    "num_acq_exp = 48\n",
    "acq_linspace = np.linspace(acq_start, acq_end, num_acq_exp)\n",
    "real_acq_linspace = convert_arr_to_dt(acq_linspace)\n",
    "diff = np.diff(real_acq_linspace)\n",
    "print(diff/ns)\n",
    "print(real_acq_linspace/ns)\n",
    "print(f\"Total Exps: {num_tau_1 * num_acq_exp * 2}\")"
   ]
  },
  {
   "cell_type": "code",
   "execution_count": 6,
   "metadata": {},
   "outputs": [
    {
     "name": "stdout",
     "output_type": "stream",
     "text": [
      "576\n"
     ]
    },
    {
     "data": {
      "image/png": "[encoded data removed]",
      "text/plain": [
       "<Figure size 1300x630 with 1 Axes>"
      ]
     },
     "execution_count": 6,
     "metadata": {},
     "output_type": "execute_result"
    }
   ],
   "source": [
    "total_exp_g = []\n",
    "total_exp_e = []\n",
    "\n",
    "for tau_1 in real_tau_1_linspace:\n",
    "    tau_1_dt = get_dt_from(tau_1)\n",
    "\n",
    "    for acq_delay_sec in real_acq_linspace:\n",
    "        acq_delay_dt = get_dt_from(acq_delay_sec)\n",
    "\n",
    "        with pulse.build(\n",
    "            backend=backend,\n",
    "            default_alignment='left',\n",
    "            name=f'Acq Scan G, tau 1: {int(1e3*tau_1_dt*dt/ns)/1e3}ns, acq delay: {int(1e3*acq_delay_dt*dt/ns)/1e3}'\n",
    "        ) as acq_sched_g:\n",
    "            meas_chan = pulse.measure_channel(qubit)\n",
    "            acq_chan = pulse.acquire_channel(qubit)\n",
    "\n",
    "            pulse.delay(acq_latency_dt, meas_chan)\n",
    "            \n",
    "            pulse.play(\n",
    "                pulse.Constant(duration=tau_1_dt, amp=1.0),\n",
    "                meas_chan\n",
    "            )\n",
    "            pulse.play(\n",
    "                pulse.Constant(duration=get_dt_from(tau_readout - tau_1_dt * dt), amp=measure_pulse.amp),\n",
    "                meas_chan\n",
    "            )\n",
    "            pulse.play(\n",
    "                pulse.Constant(duration=get_dt_from(tau_3), amp=-1.0),\n",
    "                meas_chan\n",
    "            )\n",
    "            pulse.delay(acq_delay_dt, acq_chan)\n",
    "            pulse.acquire(\n",
    "                duration=acq_duration_dt,\n",
    "                qubit_or_channel=acq_chan,\n",
    "                register=pulse.MemorySlot(qubit)\n",
    "            )\n",
    "        total_exp_g.append(acq_sched_g)\n",
    "\n",
    "        with pulse.build(\n",
    "            backend=backend,\n",
    "            default_alignment='left',\n",
    "            name=f'Acq Scan E, tau 1: {int(1e3*tau_1_dt*dt/ns)/1e3}ns, acq delay: {int(1e3*acq_delay_dt*dt/ns)/1e3}'\n",
    "        ) as acq_sched_e:\n",
    "            qubit_chan = pulse.drive_channel(qubit)\n",
    "            meas_chan = pulse.measure_channel(qubit)\n",
    "            acq_chan = pulse.acquire_channel(qubit)\n",
    "\n",
    "            with pulse.align_right():\n",
    "                pulse.play(x_pulse, qubit_chan)\n",
    "                pulse.delay(acq_latency_dt, meas_chan)\n",
    "            \n",
    "            pulse.play(\n",
    "                pulse.Constant(duration=tau_1_dt, amp=1.0),\n",
    "                meas_chan\n",
    "            )\n",
    "            pulse.play(\n",
    "                pulse.Constant(duration=get_dt_from(tau_readout - tau_1_dt * dt), amp=measure_pulse.amp),\n",
    "                meas_chan\n",
    "            )\n",
    "            pulse.play(\n",
    "                pulse.Constant(duration=get_dt_from(tau_3), amp=-1.0),\n",
    "                meas_chan\n",
    "            )\n",
    "            pulse.delay(acq_delay_dt, acq_chan)\n",
    "            pulse.acquire(\n",
    "                duration=acq_duration_dt,\n",
    "                qubit_or_channel=acq_chan,\n",
    "                register=pulse.MemorySlot(qubit)\n",
    "            )\n",
    "        total_exp_e.append(acq_sched_e)\n",
    "\n",
    "for acq_delay_sec in real_acq_linspace:\n",
    "    acq_delay_dt = get_dt_from(acq_delay_sec)\n",
    "\n",
    "    with pulse.build(\n",
    "        backend=backend,\n",
    "        default_alignment='left',\n",
    "        name=f'Normal Acq Scan G, acq delay: {int(1e3*acq_delay_dt*dt/ns)/1e3}'\n",
    "    ) as normal_acq_sched_g:\n",
    "        meas_chan = pulse.measure_channel(qubit)\n",
    "        acq_chan = pulse.acquire_channel(qubit)\n",
    "\n",
    "        pulse.delay(acq_latency_dt, meas_chan)\n",
    "        pulse.play(measure_pulse, meas_chan)\n",
    "        pulse.delay(acq_delay_dt, acq_chan)\n",
    "        pulse.acquire(\n",
    "            duration=acq_duration_dt,\n",
    "            qubit_or_channel=acq_chan,\n",
    "            register=pulse.MemorySlot(qubit)\n",
    "        )\n",
    "    total_exp_g.append(normal_acq_sched_g)\n",
    "\n",
    "    with pulse.build(\n",
    "        backend=backend,\n",
    "        default_alignment='left',\n",
    "        name=f'Normal Acq Scan E, acq delay: {int(1e3*acq_delay_dt*dt/ns)/1e3}'\n",
    "    ) as normal_acq_sched_e:\n",
    "        qubit_chan = pulse.drive_channel(qubit)\n",
    "        meas_chan = pulse.measure_channel(qubit)\n",
    "        acq_chan = pulse.acquire_channel(qubit)\n",
    "\n",
    "        with pulse.align_right():\n",
    "            pulse.play(x_pulse, qubit_chan)\n",
    "            pulse.delay(acq_latency_dt, meas_chan)\n",
    "        \n",
    "        pulse.play(measure_pulse, meas_chan)\n",
    "        pulse.delay(acq_delay_dt, acq_chan)\n",
    "        pulse.acquire(\n",
    "            duration=acq_duration_dt,\n",
    "            qubit_or_channel=acq_chan,\n",
    "            register=pulse.MemorySlot(qubit)\n",
    "        )\n",
    "    total_exp_e.append(normal_acq_sched_e)\n",
    "\n",
    "total_exp = total_exp_g + total_exp_e\n",
    "print(len(total_exp))\n",
    "\n",
    "total_exp_e[-49].draw(\n",
    "    backend=backend,\n",
    "    style=stylesheet.IQXDebugging(),\n",
    "    show_framechange=True,\n",
    "    show_waveform_info=True,\n",
    "    show_barrier=True\n",
    ")"
   ]
  },
  {
   "cell_type": "code",
   "execution_count": 7,
   "metadata": {},
   "outputs": [],
   "source": [
    "acquisition_checker(total_exp)\n",
    "\n",
    "num_shots = 4096\n",
    "rep_delay = 499.0 * 1e-6"
   ]
  },
  {
   "cell_type": "code",
   "execution_count": 8,
   "metadata": {},
   "outputs": [],
   "source": [
    "job_1 = provider.backend.retrieve_job('cpcn0a9prheg008rvnng')\n",
    "job_2 = provider.backend.retrieve_job('cpcn0hj2zy6g008nz250')"
   ]
  },
  {
   "cell_type": "code",
   "execution_count": 9,
   "metadata": {},
   "outputs": [],
   "source": [
    "result_1 = get_results_arr(job_1.result(), qubit)\n",
    "result_2 = get_results_arr(job_2.result(), qubit)"
   ]
  },
  {
   "cell_type": "code",
   "execution_count": null,
   "metadata": {},
   "outputs": [],
   "source": []
  }
 ],
 "metadata": {
  "kernelspec": {
   "display_name": "readout_env",
   "language": "python",
   "name": "python3"
  },
  "language_info": {
   "codemirror_mode": {
    "name": "ipython",
    "version": 3
   },
   "file_extension": ".py",
   "mimetype": "text/x-python",
   "name": "python",
   "nbconvert_exporter": "python",
   "pygments_lexer": "ipython3",
   "version": "3.9.11"
  }
 },
 "nbformat": 4,
 "nbformat_minor": 2
}
