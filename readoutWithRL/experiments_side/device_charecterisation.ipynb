{
 "cells": [
  {
   "cell_type": "code",
   "execution_count": 1,
   "metadata": {},
   "outputs": [
    {
     "name": "stderr",
     "output_type": "stream",
     "text": [
      "/var/folders/g4/_yhz0jm50s17zz2ms7wwytcr0000gr/T/ipykernel_15135/2268176252.py:19: DeprecationWarning: The qiskit.IBMQ entrypoint and the qiskit-ibmq-provider package (accessible from 'qiskit.providers.ibmq`) are deprecated and will be removed in a future release. Instead you should use the qiskit-ibm-provider package which is accessible from 'qiskit_ibm_provider'. You can install it with 'pip install qiskit_ibm_provider'. Just replace 'qiskit.IBMQ' with 'qiskit_ibm_provider.IBMProvider'\n",
      "  IBMQ.load_account()\n"
     ]
    },
    {
     "data": {
      "text/plain": [
       "<AccountProvider for IBMQ(hub='ibm-q', group='open', project='main')>"
      ]
     },
     "execution_count": 1,
     "metadata": {},
     "output_type": "execute_result"
    }
   ],
   "source": [
    "# Running All Imports\n",
    "\n",
    "import numpy as np\n",
    "from numpy import ndarray\n",
    "import matplotlib.pyplot as plt\n",
    "%matplotlib inline\n",
    "\n",
    "from qiskit import IBMQ, pulse, schedule\n",
    "\n",
    "from qiskit.circuit import Parameter, QuantumCircuit, Gate\n",
    "from qiskit.tools.monitor import job_monitor\n",
    "\n",
    "from qiskit.visualization.pulse_v2 import stylesheet\n",
    "\n",
    "from scipy.optimize import curve_fit\n",
    "\n",
    "from typing import Optional, Union\n",
    "\n",
    "IBMQ.load_account()"
   ]
  },
  {
   "cell_type": "code",
   "execution_count": 2,
   "metadata": {},
   "outputs": [
    {
     "data": {
      "text/plain": [
       "[<IBMQSimulator('ibmq_qasm_simulator') from IBMQ(hub='ibm-q-nus', group='default', project='default')>,\n",
       " <IBMQBackend('ibmq_kolkata') from IBMQ(hub='ibm-q-nus', group='default', project='default')>,\n",
       " <IBMQBackend('ibmq_mumbai') from IBMQ(hub='ibm-q-nus', group='default', project='default')>,\n",
       " <IBMQSimulator('simulator_statevector') from IBMQ(hub='ibm-q-nus', group='default', project='default')>,\n",
       " <IBMQSimulator('simulator_mps') from IBMQ(hub='ibm-q-nus', group='default', project='default')>,\n",
       " <IBMQSimulator('simulator_extended_stabilizer') from IBMQ(hub='ibm-q-nus', group='default', project='default')>,\n",
       " <IBMQSimulator('simulator_stabilizer') from IBMQ(hub='ibm-q-nus', group='default', project='default')>,\n",
       " <IBMQBackend('ibm_hanoi') from IBMQ(hub='ibm-q-nus', group='default', project='default')>,\n",
       " <IBMQBackend('ibm_algiers') from IBMQ(hub='ibm-q-nus', group='default', project='default')>,\n",
       " <IBMQBackend('ibm_cairo') from IBMQ(hub='ibm-q-nus', group='default', project='default')>,\n",
       " <IBMQBackend('ibm_sherbrooke') from IBMQ(hub='ibm-q-nus', group='default', project='default')>,\n",
       " <IBMQBackend('ibm_brisbane') from IBMQ(hub='ibm-q-nus', group='default', project='default')>,\n",
       " <IBMQBackend('ibm_nazca') from IBMQ(hub='ibm-q-nus', group='default', project='default')>,\n",
       " <IBMQBackend('ibm_kyoto') from IBMQ(hub='ibm-q-nus', group='default', project='default')>,\n",
       " <IBMQBackend('ibm_osaka') from IBMQ(hub='ibm-q-nus', group='default', project='default')>]"
      ]
     },
     "execution_count": 2,
     "metadata": {},
     "output_type": "execute_result"
    }
   ],
   "source": [
    "provider = IBMQ.get_provider(hub='ibm-q-nus', group='default', project='default')\n",
    "provider.backends()"
   ]
  },
  {
   "cell_type": "code",
   "execution_count": 3,
   "metadata": {},
   "outputs": [],
   "source": [
    "DEBUG_PRINT = False\n",
    "\n",
    "backend = provider.get_backend('ibm_cairo') # replace the name with the exact one for the backend that is desired from the previous displayed backends\n",
    "backend_config = backend.configuration()\n",
    "assert backend_config.open_pulse, \"Backend doesn't support Pulse\"\n",
    "\n",
    "dt = backend_config.dt # Example way of getting data on the backend\n",
    "backend_defaults = backend.defaults() \n",
    "\n",
    "acquire_alignment = backend.configuration().timing_constraints['acquire_alignment']\n",
    "granularity = backend.configuration().timing_constraints['granularity']\n",
    "pulse_alignment = backend.configuration().timing_constraints['pulse_alignment']\n",
    "\n",
    "lcm = np.lcm(acquire_alignment, pulse_alignment)\n",
    "\n",
    "# unit conversion factors -> all backend properties returned in SI (Hz, sec, etc.)\n",
    "GHz = 1.0e9 # Gigahertz\n",
    "MHz = 1.0e6 # Megahertz\n",
    "us = 1.0e-6 # Microseconds\n",
    "ns = 1.0e-9 # Nanoseconds\n",
    "\n",
    "# Experiments will be run on these qubits\n",
    "qubit_0 = 0\n",
    "qubit_1 = 1\n",
    "\n",
    "# The sweep will be centered around the estimated qubit frequency.\n",
    "center_frequency_Hz_0 = backend_defaults.qubit_freq_est[qubit_0]\n",
    "center_frequency_Hz_1 = backend_defaults.qubit_freq_est[qubit_1]\n",
    "\n",
    "meas_freq_0 = backend_defaults.meas_freq_est[qubit_0]\n",
    "meas_freq_1 = backend_defaults.meas_freq_est[qubit_1]\n",
    "\n",
    "# scale factor to remove factors of 10 from the data\n",
    "scale_factor = 1e-7\n",
    "\n",
    "qubit = qubit_0\n",
    "\n",
    "instruction_schedule_map = backend.defaults().instruction_schedule_map\n",
    "measure_instructions = np.array(instruction_schedule_map.get(\"measure\", qubits=[qubit]).instructions)\n",
    "measure_pulse = measure_instructions[-2,1].pulse\n",
    "measure_delay = measure_instructions[-1,1]\n",
    "\n",
    "x_instructions = np.array(instruction_schedule_map.get(\"x\", qubits=[qubit]).instructions)\n",
    "x_pulse = x_instructions[0,1].pulse\n",
    "\n",
    "sx_instructions = np.array(instruction_schedule_map.get(\"sx\", qubits=[qubit]).instructions)\n",
    "sx_pulse = sx_instructions[0,1].pulse\n",
    "\n",
    "if DEBUG_PRINT:\n",
    "    print(f\"config: {backend_config}\")\n",
    "\n",
    "    for key, value in backend_config.to_dict().items():\n",
    "        print(key)\n",
    "        print(value)\n",
    "    \n",
    "    print(f\"Sampling time: {dt*1e9} ns\")    # The configuration returns dt in seconds, so multiply by\n",
    "                                            # 1e9 to get nanoseconds\n",
    "\n",
    "    backend_config.timing_constraints\n",
    "\n",
    "    print(f\"Least common multiple of acquire_alignment and pulse_alignment: {lcm}\")\n",
    "\n",
    "    print(f\"Qubit {qubit_0} has an estimated frequency of {center_frequency_Hz_0 / GHz} GHz.\")\n",
    "    print(f\"Qubit {qubit_1} has an estimated frequency of {center_frequency_Hz_1 / GHz} GHz.\")\n",
    "\n",
    "    print(f\"Resonator for qubit {qubit_0} has an estimated frequency of {meas_freq_0 / GHz} GHz.\")\n",
    "    print(f\"Resonator for qubit {qubit_1} has an estimated frequency of {meas_freq_1 / GHz} GHz.\")\n",
    "\n",
    "    print(f\"measure_instructions: {measure_instructions}\")\n",
    "\n",
    "    print(f\"measurement pulse: {measure_pulse}\")\n",
    "    print(f\"measurement delay: {measure_delay}\")\n",
    "    print(f\"x pulse: {x_pulse}\")\n",
    "    print(f\"sx pulse: {sx_pulse}\")"
   ]
  },
  {
   "cell_type": "markdown",
   "metadata": {},
   "source": [
    "## $\\chi$ Charecterisation - RR Frequency Sweep\n",
    "\n",
    "In this experiment we run a standard RR Frequency Sweep near the standard center frequency, one with the qubit initialised in $|0\\rangle$ and $|1\\rangle$"
   ]
  },
  {
   "cell_type": "markdown",
   "metadata": {},
   "source": []
  }
 ],
 "metadata": {
  "kernelspec": {
   "display_name": "readout_env",
   "language": "python",
   "name": "python3"
  },
  "language_info": {
   "codemirror_mode": {
    "name": "ipython",
    "version": 3
   },
   "file_extension": ".py",
   "mimetype": "text/x-python",
   "name": "python",
   "nbconvert_exporter": "python",
   "pygments_lexer": "ipython3",
   "version": "3.9.11"
  }
 },
 "nbformat": 4,
 "nbformat_minor": 2
}
